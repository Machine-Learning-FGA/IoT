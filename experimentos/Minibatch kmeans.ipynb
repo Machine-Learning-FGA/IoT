{
 "cells": [
  {
   "cell_type": "markdown",
   "metadata": {},
   "source": [
    "# Minibatchkmeans"
   ]
  },
  {
   "cell_type": "markdown",
   "metadata": {},
   "source": [
    "É um algorítmo do sklearn para clusterização, uma variante do Kmeans, que usa minibatches para reduzir o tempo de computação, sendo estes subconjuntos dos dados de entrada que são amostrados de maneira aleatória a cada iteração do treinamento, convergindo em menos passos para a solução. Ele funciona entre dois passos principais: São sorteadas X amostras entre os conjuntos de dados para formar um minibatch e estes são atribuídos ao centróide mais próximo e; O centróide é atualizado.Essas duas etapas se repetem até que ocorra a convergência ou alcance um número Y de iterações.\n",
    "\n",
    "Ele possui a seguinte estrutura de parâmetros possíveis : \n",
    "\n",
    "\n",
    "class sklearn.cluster.MiniBatchKMeans(n_clusters=8, init=’k-means++’, max_iter=100, batch_size=100, verbose=0, compute_labels=True, random_state=None, tol=0.0, max_no_improvement=10, init_size=None, n_init=3, reassignment_ratio=0.01)\n",
    "\n",
    "Assim, você pode controlar o número de centróides a serem gerados com o n_clusters, pode controlar o número de iterações para não aguardar a convergência através do max_iter.\n",
    "\n",
    "Com o init é possível controlar os centros iniciais dos clusters, sendo  o ‘k-means++ responsável por escolher um centro que forneça um caminho rápido para a convergência, mas há ainda o random que rescolhe k observações de maneira randomica nos dados para serem os centróides iniciais. É possível ainda controlar o número de batches através do atributo batch_size. \n",
    "\n",
    "\n",
    "\n",
    "\n",
    "\n",
    "\n",
    "\n",
    "\n",
    "\n",
    "\n",
    "\n",
    "\n",
    "\n",
    "\n"
   ]
  },
  {
   "cell_type": "markdown",
   "metadata": {},
   "source": [
    "## Importando as bibliotecas"
   ]
  },
  {
   "cell_type": "code",
   "execution_count": 44,
   "metadata": {},
   "outputs": [],
   "source": [
    "import pandas as pd\n",
    "import matplotlib.pyplot as plt\n",
    "import seaborn as sns; sns.set()  # for plot styling\n",
    "%matplotlib inline"
   ]
  },
  {
   "cell_type": "markdown",
   "metadata": {},
   "source": [
    "## Leitura do dataset \n",
    "\n",
    "O dataset utilizado foi o produzido pela equipe a fim de reduzir o tamanho do arquivo, por tanto, considera apenas a câmera de segurança."
   ]
  },
  {
   "cell_type": "code",
   "execution_count": 45,
   "metadata": {},
   "outputs": [],
   "source": [
    "dataset_security_camera = pd.read_csv('../security_camera.csv')"
   ]
  },
  {
   "cell_type": "markdown",
   "metadata": {},
   "source": [
    "## Visualização Rápida\n",
    "\n",
    "Percebe-se nesse dataset a inclusão de duas colunas, correspondentes à classificação dos botnets gafgyt e mirai"
   ]
  },
  {
   "cell_type": "code",
   "execution_count": 46,
   "metadata": {},
   "outputs": [
    {
     "data": {
      "text/html": [
       "<div>\n",
       "<style scoped>\n",
       "    .dataframe tbody tr th:only-of-type {\n",
       "        vertical-align: middle;\n",
       "    }\n",
       "\n",
       "    .dataframe tbody tr th {\n",
       "        vertical-align: top;\n",
       "    }\n",
       "\n",
       "    .dataframe thead th {\n",
       "        text-align: right;\n",
       "    }\n",
       "</style>\n",
       "<table border=\"1\" class=\"dataframe\">\n",
       "  <thead>\n",
       "    <tr style=\"text-align: right;\">\n",
       "      <th></th>\n",
       "      <th>Unnamed: 0</th>\n",
       "      <th>MI_dir_L5_weight</th>\n",
       "      <th>MI_dir_L5_mean</th>\n",
       "      <th>MI_dir_L5_variance</th>\n",
       "      <th>MI_dir_L3_weight</th>\n",
       "      <th>MI_dir_L3_mean</th>\n",
       "      <th>MI_dir_L3_variance</th>\n",
       "      <th>MI_dir_L1_weight</th>\n",
       "      <th>MI_dir_L1_mean</th>\n",
       "      <th>MI_dir_L1_variance</th>\n",
       "      <th>...</th>\n",
       "      <th>HpHp_L0.1_pcc</th>\n",
       "      <th>HpHp_L0.01_weight</th>\n",
       "      <th>HpHp_L0.01_mean</th>\n",
       "      <th>HpHp_L0.01_std</th>\n",
       "      <th>HpHp_L0.01_magnitude</th>\n",
       "      <th>HpHp_L0.01_radius</th>\n",
       "      <th>HpHp_L0.01_covariance</th>\n",
       "      <th>HpHp_L0.01_pcc</th>\n",
       "      <th>gafgyt</th>\n",
       "      <th>mirai</th>\n",
       "    </tr>\n",
       "  </thead>\n",
       "  <tbody>\n",
       "    <tr>\n",
       "      <th>0</th>\n",
       "      <td>0</td>\n",
       "      <td>1.000000</td>\n",
       "      <td>98.000000</td>\n",
       "      <td>0.000000</td>\n",
       "      <td>1.000000</td>\n",
       "      <td>98.000000</td>\n",
       "      <td>0.000000</td>\n",
       "      <td>1.000000</td>\n",
       "      <td>98.000000</td>\n",
       "      <td>0.000000</td>\n",
       "      <td>...</td>\n",
       "      <td>0.000000e+00</td>\n",
       "      <td>1.000000</td>\n",
       "      <td>98.0</td>\n",
       "      <td>0.0</td>\n",
       "      <td>98.000000</td>\n",
       "      <td>0.000000e+00</td>\n",
       "      <td>0.0</td>\n",
       "      <td>0.0</td>\n",
       "      <td>1</td>\n",
       "      <td>0</td>\n",
       "    </tr>\n",
       "    <tr>\n",
       "      <th>1</th>\n",
       "      <td>1</td>\n",
       "      <td>1.041382</td>\n",
       "      <td>61.510016</td>\n",
       "      <td>55.100457</td>\n",
       "      <td>1.147940</td>\n",
       "      <td>64.897216</td>\n",
       "      <td>162.111476</td>\n",
       "      <td>1.528885</td>\n",
       "      <td>73.145292</td>\n",
       "      <td>326.722394</td>\n",
       "      <td>...</td>\n",
       "      <td>0.000000e+00</td>\n",
       "      <td>1.000000</td>\n",
       "      <td>60.0</td>\n",
       "      <td>0.0</td>\n",
       "      <td>84.852814</td>\n",
       "      <td>0.000000e+00</td>\n",
       "      <td>0.0</td>\n",
       "      <td>0.0</td>\n",
       "      <td>1</td>\n",
       "      <td>0</td>\n",
       "    </tr>\n",
       "    <tr>\n",
       "      <th>2</th>\n",
       "      <td>2</td>\n",
       "      <td>1.732176</td>\n",
       "      <td>82.575990</td>\n",
       "      <td>348.212293</td>\n",
       "      <td>1.929229</td>\n",
       "      <td>82.055776</td>\n",
       "      <td>351.662235</td>\n",
       "      <td>2.424873</td>\n",
       "      <td>83.395194</td>\n",
       "      <td>341.682272</td>\n",
       "      <td>...</td>\n",
       "      <td>0.000000e+00</td>\n",
       "      <td>1.992951</td>\n",
       "      <td>98.0</td>\n",
       "      <td>0.0</td>\n",
       "      <td>138.592929</td>\n",
       "      <td>0.000000e+00</td>\n",
       "      <td>0.0</td>\n",
       "      <td>0.0</td>\n",
       "      <td>1</td>\n",
       "      <td>0</td>\n",
       "    </tr>\n",
       "    <tr>\n",
       "      <th>3</th>\n",
       "      <td>3</td>\n",
       "      <td>1.050570</td>\n",
       "      <td>97.257558</td>\n",
       "      <td>27.661571</td>\n",
       "      <td>1.231506</td>\n",
       "      <td>95.002707</td>\n",
       "      <td>104.913381</td>\n",
       "      <td>2.196048</td>\n",
       "      <td>90.045689</td>\n",
       "      <td>238.992747</td>\n",
       "      <td>...</td>\n",
       "      <td>0.000000e+00</td>\n",
       "      <td>2.978915</td>\n",
       "      <td>98.0</td>\n",
       "      <td>0.0</td>\n",
       "      <td>138.592929</td>\n",
       "      <td>0.000000e+00</td>\n",
       "      <td>0.0</td>\n",
       "      <td>0.0</td>\n",
       "      <td>1</td>\n",
       "      <td>0</td>\n",
       "    </tr>\n",
       "    <tr>\n",
       "      <th>4</th>\n",
       "      <td>4</td>\n",
       "      <td>1.030388</td>\n",
       "      <td>97.978104</td>\n",
       "      <td>0.831573</td>\n",
       "      <td>1.146962</td>\n",
       "      <td>97.615952</td>\n",
       "      <td>14.446324</td>\n",
       "      <td>2.081180</td>\n",
       "      <td>93.867709</td>\n",
       "      <td>139.951226</td>\n",
       "      <td>...</td>\n",
       "      <td>1.358463e-17</td>\n",
       "      <td>3.957881</td>\n",
       "      <td>98.0</td>\n",
       "      <td>0.0</td>\n",
       "      <td>138.592929</td>\n",
       "      <td>3.637979e-12</td>\n",
       "      <td>0.0</td>\n",
       "      <td>0.0</td>\n",
       "      <td>1</td>\n",
       "      <td>0</td>\n",
       "    </tr>\n",
       "  </tbody>\n",
       "</table>\n",
       "<p>5 rows × 118 columns</p>\n",
       "</div>"
      ],
      "text/plain": [
       "   Unnamed: 0  MI_dir_L5_weight  MI_dir_L5_mean  MI_dir_L5_variance  \\\n",
       "0           0          1.000000       98.000000            0.000000   \n",
       "1           1          1.041382       61.510016           55.100457   \n",
       "2           2          1.732176       82.575990          348.212293   \n",
       "3           3          1.050570       97.257558           27.661571   \n",
       "4           4          1.030388       97.978104            0.831573   \n",
       "\n",
       "   MI_dir_L3_weight  MI_dir_L3_mean  MI_dir_L3_variance  MI_dir_L1_weight  \\\n",
       "0          1.000000       98.000000            0.000000          1.000000   \n",
       "1          1.147940       64.897216          162.111476          1.528885   \n",
       "2          1.929229       82.055776          351.662235          2.424873   \n",
       "3          1.231506       95.002707          104.913381          2.196048   \n",
       "4          1.146962       97.615952           14.446324          2.081180   \n",
       "\n",
       "   MI_dir_L1_mean  MI_dir_L1_variance  ...    HpHp_L0.1_pcc  \\\n",
       "0       98.000000            0.000000  ...     0.000000e+00   \n",
       "1       73.145292          326.722394  ...     0.000000e+00   \n",
       "2       83.395194          341.682272  ...     0.000000e+00   \n",
       "3       90.045689          238.992747  ...     0.000000e+00   \n",
       "4       93.867709          139.951226  ...     1.358463e-17   \n",
       "\n",
       "   HpHp_L0.01_weight  HpHp_L0.01_mean  HpHp_L0.01_std  HpHp_L0.01_magnitude  \\\n",
       "0           1.000000             98.0             0.0             98.000000   \n",
       "1           1.000000             60.0             0.0             84.852814   \n",
       "2           1.992951             98.0             0.0            138.592929   \n",
       "3           2.978915             98.0             0.0            138.592929   \n",
       "4           3.957881             98.0             0.0            138.592929   \n",
       "\n",
       "   HpHp_L0.01_radius  HpHp_L0.01_covariance  HpHp_L0.01_pcc  gafgyt  mirai  \n",
       "0       0.000000e+00                    0.0             0.0       1      0  \n",
       "1       0.000000e+00                    0.0             0.0       1      0  \n",
       "2       0.000000e+00                    0.0             0.0       1      0  \n",
       "3       0.000000e+00                    0.0             0.0       1      0  \n",
       "4       3.637979e-12                    0.0             0.0       1      0  \n",
       "\n",
       "[5 rows x 118 columns]"
      ]
     },
     "execution_count": 46,
     "metadata": {},
     "output_type": "execute_result"
    }
   ],
   "source": [
    "dataset_security_camera.head()"
   ]
  },
  {
   "cell_type": "markdown",
   "metadata": {},
   "source": [
    "## Aplicando o Minibatch kmeans"
   ]
  },
  {
   "cell_type": "code",
   "execution_count": 88,
   "metadata": {},
   "outputs": [
    {
     "data": {
      "text/plain": [
       "array([[ 1.43696733e+04,  4.58667539e+01,  1.20710541e+02,\n",
       "         1.34290336e+04,  7.03007308e+01,  1.20863547e+02,\n",
       "         1.43672839e+04,  1.89004713e+02,  1.21964874e+02,\n",
       "         1.58161390e+04,  1.09889413e+03,  1.25162363e+02,\n",
       "         1.79112455e+04,  2.06450119e+03,  1.27450768e+02,\n",
       "         1.90039896e+04,  4.58667539e+01,  1.20710541e+02,\n",
       "         1.34290336e+04,  7.03007308e+01,  1.20863547e+02,\n",
       "         1.43672839e+04,  1.89004713e+02,  1.21964874e+02,\n",
       "         1.58161390e+04,  1.09889413e+03,  1.25162363e+02,\n",
       "         1.79112455e+04,  2.06450119e+03,  1.27450768e+02,\n",
       "         1.90039896e+04,  2.79824686e+01,  1.20635350e+02,\n",
       "         2.73306576e+01,  1.66442138e+02,  2.79892531e+04,\n",
       "        -1.58181378e+03, -4.13192881e-03,  4.33193750e+01,\n",
       "         1.20536054e+02,  2.75364054e+01,  1.68034081e+02,\n",
       "         2.87669991e+04, -1.84891166e+03, -7.45148874e-03,\n",
       "         1.16942606e+02,  1.20693382e+02,  2.90825320e+01,\n",
       "         1.68978229e+02,  2.93270471e+04, -2.16134604e+03,\n",
       "        -1.08928926e-02,  5.58849246e+02,  1.22478088e+02,\n",
       "         3.60735245e+01,  1.65092675e+02,  2.63385325e+04,\n",
       "        -1.91235373e+03, -1.00508755e-02,  8.52538857e+02,\n",
       "         1.24023535e+02,  4.31030465e+01,  1.60976153e+02,\n",
       "         2.25000261e+04, -1.41304114e+02,  1.54252149e-02,\n",
       "         2.79824686e+01,  4.02332751e+08,  2.42687185e+11,\n",
       "         4.33193750e+01,  4.02334166e+08,  2.35650373e+12,\n",
       "         1.16942606e+02,  4.02347789e+08,  2.20583414e+13,\n",
       "         5.58849246e+02,  4.02563430e+08,  3.31184968e+14,\n",
       "         8.52538857e+02,  4.02948773e+08,  8.55572283e+14,\n",
       "         2.28934398e+00,  1.22706238e+02,  2.32665337e+01,\n",
       "         1.43030178e+02,  1.30260959e+04,  1.96117667e+03,\n",
       "         3.86585582e-02,  2.83351541e+00,  1.22701851e+02,\n",
       "         2.33530833e+01,  1.42927174e+02,  1.30402147e+04,\n",
       "         1.99757073e+03,  3.95603451e-02,  5.60683994e+00,\n",
       "         1.22598225e+02,  2.35947282e+01,  1.42727877e+02,\n",
       "         1.30887077e+04,  2.03901405e+03,  4.05847551e-02,\n",
       "         3.40996267e+01,  1.22340464e+02,  2.42559591e+01,\n",
       "         1.42388439e+02,  1.32017351e+04,  2.06992965e+03,\n",
       "         4.07712381e-02,  6.47996976e+01,  1.22353705e+02,\n",
       "         2.48046723e+01,  1.42410112e+02,  1.32591759e+04,\n",
       "         2.08386002e+03,  4.23401678e-02,  2.22517730e-01,\n",
       "         2.58274232e-01],\n",
       "       [ 2.36893534e+03,  4.97568772e+01,  7.70348216e+01,\n",
       "         1.00430650e+03,  7.24738961e+01,  7.74641449e+01,\n",
       "         1.60887002e+03,  1.65188790e+02,  7.75268697e+01,\n",
       "         1.79099144e+03,  9.91017125e+02,  7.78909612e+01,\n",
       "         2.01286588e+03,  3.24829166e+03,  7.76538408e+01,\n",
       "         1.79568328e+03,  4.97568772e+01,  7.70348216e+01,\n",
       "         1.00430650e+03,  7.24738961e+01,  7.74641449e+01,\n",
       "         1.60887002e+03,  1.65188790e+02,  7.75268697e+01,\n",
       "         1.79099144e+03,  9.91017125e+02,  7.78909612e+01,\n",
       "         2.01286588e+03,  3.24829166e+03,  7.76538408e+01,\n",
       "         1.79568328e+03,  1.09411868e+00,  7.43314074e+01,\n",
       "         5.85380394e-01,  7.47513677e+01,  3.09517999e+01,\n",
       "        -5.35439961e-02, -3.84658765e-04,  1.10187762e+00,\n",
       "         7.43012910e+01,  5.82805722e-01,  7.47341667e+01,\n",
       "         3.01637592e+01, -1.43466604e-01, -5.99443785e-04,\n",
       "         1.18266220e+00,  7.42366980e+01,  5.77077054e-01,\n",
       "         7.46983260e+01,  2.82288990e+01, -6.45728417e-02,\n",
       "        -1.93199686e-04,  2.07767006e+00,  7.41914940e+01,\n",
       "         5.54547586e-01,  7.46714259e+01,  2.63277334e+01,\n",
       "         1.74177698e-01,  5.09697430e-04,  2.56380938e+00,\n",
       "         7.41872473e+01,  5.51207890e-01,  7.46691005e+01,\n",
       "         2.60857752e+01,  2.04107901e-01,  5.99413983e-04,\n",
       "         1.09411868e+00,  6.96791636e+06,  8.28721059e+15,\n",
       "         1.10187762e+00,  9.70310722e+06,  1.20814541e+16,\n",
       "         1.18266220e+00,  9.45590330e+07,  1.24827809e+17,\n",
       "         2.07767006e+00,  5.05462776e+08,  4.75354289e+17,\n",
       "         2.56380938e+00,  6.00833761e+08,  5.21762528e+17,\n",
       "         1.04038464e+00,  7.43979241e+01,  5.03706402e-01,\n",
       "         7.47215748e+01,  2.94314841e+01,  0.00000000e+00,\n",
       "         0.00000000e+00,  1.04719517e+00,  7.43709296e+01,\n",
       "         4.95529032e-01,  7.46981080e+01,  2.84836301e+01,\n",
       "         0.00000000e+00,  0.00000000e+00,  1.12435068e+00,\n",
       "         7.43182939e+01,  4.74011331e-01,  7.46528186e+01,\n",
       "         2.60636044e+01,  0.00000000e+00,  0.00000000e+00,\n",
       "         2.00736848e+00,  7.42843043e+01,  4.56165893e-01,\n",
       "         7.46239318e+01,  2.41380604e+01,  0.00000000e+00,\n",
       "         0.00000000e+00,  2.49085654e+00,  7.42805884e+01,\n",
       "         4.54012492e-01,  7.46207921e+01,  2.39107162e+01,\n",
       "         0.00000000e+00,  0.00000000e+00,  9.78448276e-01,\n",
       "         4.31034483e-03]])"
      ]
     },
     "execution_count": 88,
     "metadata": {},
     "output_type": "execute_result"
    }
   ],
   "source": [
    "from sklearn.cluster import MiniBatchKMeans\n",
    "\n",
    "minibatch_kmeans = MiniBatchKMeans(n_clusters = 2, init='k-means++', max_iter=300, n_init=10, random_state=0, batch_size = 500)\n",
    "minibatch_kmeans.fit(dataset_security_camera)\n",
    "\n",
    "minibatch_kmeans.cluster_centers_"
   ]
  },
  {
   "cell_type": "code",
   "execution_count": 89,
   "metadata": {},
   "outputs": [
    {
     "data": {
      "text/plain": [
       "array([0, 1, 1, ..., 0, 0, 0], dtype=int32)"
      ]
     },
     "execution_count": 89,
     "metadata": {},
     "output_type": "execute_result"
    }
   ],
   "source": [
    "minibatch_kmeans.labels_"
   ]
  },
  {
   "cell_type": "code",
   "execution_count": 91,
   "metadata": {},
   "outputs": [
    {
     "data": {
      "text/plain": [
       "-1.2041966487329712e+38"
      ]
     },
     "execution_count": 91,
     "metadata": {},
     "output_type": "execute_result"
    }
   ],
   "source": [
    "minibatch_kmeans.score(dataset_security_camera)"
   ]
  },
  {
   "cell_type": "code",
   "execution_count": 64,
   "metadata": {},
   "outputs": [
    {
     "data": {
      "image/png": "[encoded data removed]",
      "text/plain": [
       "<matplotlib.figure.Figure at 0x7f873e08f240>"
      ]
     },
     "metadata": {},
     "output_type": "display_data"
    }
   ],
   "source": [
    "centers = minibatch_kmeans.cluster_centers_\n",
    "plt.scatter(centers[:, 0], centers[:, 2], c='blue', s=200, alpha=0.5);\n",
    "\n",
    "plt.show()"
   ]
  }
 ],
 "metadata": {
  "kernelspec": {
   "display_name": "Python 3",
   "language": "python",
   "name": "python3"
  },
  "language_info": {
   "codemirror_mode": {
    "name": "ipython",
    "version": 3
   },
   "file_extension": ".py",
   "mimetype": "text/x-python",
   "name": "python",
   "nbconvert_exporter": "python",
   "pygments_lexer": "ipython3",
   "version": "3.6.4"
  }
 },
 "nbformat": 4,
 "nbformat_minor": 2
}
