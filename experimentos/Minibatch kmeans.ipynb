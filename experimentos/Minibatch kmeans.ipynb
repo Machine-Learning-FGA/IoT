{
 "cells": [
  {
   "cell_type": "markdown",
   "metadata": {},
   "source": [
    "# Minibatchkmeans"
   ]
  },
  {
   "cell_type": "markdown",
   "metadata": {},
   "source": [
    "É um algorítmo do sklearn para clusterização, uma variante do Kmeans, que usa minibatches para reduzir o tempo de computação, sendo estes subconjuntos dos dados de entrada que são amostrados de maneira aleatória a cada iteração do treinamento, convergindo em menos passos para a solução. Ele funciona entre dois passos principais: São sorteadas X amostras entre os conjuntos de dados para formar um minibatch e estes são atribuídos ao centróide mais próximo e; O centróide é atualizado.Essas duas etapas se repetem até que ocorra a convergência ou alcance um número Y de iterações.\n",
    "\n",
    "Ele possui a seguinte estrutura de parâmetros possíveis : \n",
    "\n",
    "\n",
    "class sklearn.cluster.MiniBatchKMeans(n_clusters=8, init=’k-means++’, max_iter=100, batch_size=100, verbose=0, compute_labels=True, random_state=None, tol=0.0, max_no_improvement=10, init_size=None, n_init=3, reassignment_ratio=0.01)\n",
    "\n",
    "Assim, você pode controlar o número de centróides a serem gerados com o n_clusters, pode controlar o número de iterações para não aguardar a convergência através do max_iter.\n",
    "\n",
    "Com o init é possível controlar os centros iniciais dos clusters, sendo  o ‘k-means++ responsável por escolher um centro que forneça um caminho rápido para a convergência, mas há ainda o random que rescolhe k observações de maneira randomica nos dados para serem os centróides iniciais. É possível ainda controlar o número de batches através do atributo batch_size. \n",
    "\n",
    "\n",
    "\n",
    "\n",
    "\n",
    "\n",
    "\n",
    "\n",
    "\n",
    "\n",
    "\n",
    "\n",
    "\n",
    "\n"
   ]
  },
  {
   "cell_type": "markdown",
   "metadata": {},
   "source": [
    "## Importando as bibliotecas"
   ]
  },
  {
   "cell_type": "code",
   "execution_count": 208,
   "metadata": {},
   "outputs": [],
   "source": [
    "import pandas as pd\n",
    "import matplotlib.pyplot as plt\n",
    "import seaborn as sns; sns.set()  # for plot styling\n",
    "from sklearn import metrics\n",
    "from sklearn.metrics import pairwise_distances\n",
    "%matplotlib inline"
   ]
  },
  {
   "cell_type": "markdown",
   "metadata": {},
   "source": [
    "## Leitura do dataset \n",
    "\n",
    "O dataset utilizado foi o produzido pela equipe a fim de reduzir o tamanho do arquivo, por tanto, considera apenas a câmera de segurança."
   ]
  },
  {
   "cell_type": "code",
   "execution_count": 130,
   "metadata": {},
   "outputs": [],
   "source": [
    "dataset_security_camera = pd.read_csv('../dataset/camera.csv')"
   ]
  },
  {
   "cell_type": "markdown",
   "metadata": {},
   "source": [
    "## Visualização Rápida\n",
    "\n",
    "Percebe-se nesse dataset a inclusão de duas colunas, correspondentes à classificação dos botnets gafgyt e mirai"
   ]
  },
  {
   "cell_type": "code",
   "execution_count": 131,
   "metadata": {},
   "outputs": [
    {
     "data": {
      "text/html": [
       "<div>\n",
       "<style scoped>\n",
       "    .dataframe tbody tr th:only-of-type {\n",
       "        vertical-align: middle;\n",
       "    }\n",
       "\n",
       "    .dataframe tbody tr th {\n",
       "        vertical-align: top;\n",
       "    }\n",
       "\n",
       "    .dataframe thead th {\n",
       "        text-align: right;\n",
       "    }\n",
       "</style>\n",
       "<table border=\"1\" class=\"dataframe\">\n",
       "  <thead>\n",
       "    <tr style=\"text-align: right;\">\n",
       "      <th></th>\n",
       "      <th>MI_dir_L5_weight</th>\n",
       "      <th>MI_dir_L5_mean</th>\n",
       "      <th>MI_dir_L5_variance</th>\n",
       "      <th>MI_dir_L3_weight</th>\n",
       "      <th>MI_dir_L3_mean</th>\n",
       "      <th>MI_dir_L3_variance</th>\n",
       "      <th>MI_dir_L1_weight</th>\n",
       "      <th>MI_dir_L1_mean</th>\n",
       "      <th>MI_dir_L1_variance</th>\n",
       "      <th>MI_dir_L0.1_weight</th>\n",
       "      <th>...</th>\n",
       "      <th>HpHp_L0.1_covariance</th>\n",
       "      <th>HpHp_L0.1_pcc</th>\n",
       "      <th>HpHp_L0.01_weight</th>\n",
       "      <th>HpHp_L0.01_mean</th>\n",
       "      <th>HpHp_L0.01_std</th>\n",
       "      <th>HpHp_L0.01_magnitude</th>\n",
       "      <th>HpHp_L0.01_radius</th>\n",
       "      <th>HpHp_L0.01_covariance</th>\n",
       "      <th>HpHp_L0.01_pcc</th>\n",
       "      <th>label</th>\n",
       "    </tr>\n",
       "  </thead>\n",
       "  <tbody>\n",
       "    <tr>\n",
       "      <th>0</th>\n",
       "      <td>1.000000</td>\n",
       "      <td>60.000000</td>\n",
       "      <td>0.000000e+00</td>\n",
       "      <td>1.000000</td>\n",
       "      <td>60.000000</td>\n",
       "      <td>0.000000</td>\n",
       "      <td>1.000000</td>\n",
       "      <td>60.000000</td>\n",
       "      <td>0.000000</td>\n",
       "      <td>1.000000</td>\n",
       "      <td>...</td>\n",
       "      <td>0.0</td>\n",
       "      <td>0.0</td>\n",
       "      <td>1.000000</td>\n",
       "      <td>60.000000</td>\n",
       "      <td>0.000000</td>\n",
       "      <td>60.000000</td>\n",
       "      <td>0.000000</td>\n",
       "      <td>0.0</td>\n",
       "      <td>0.0</td>\n",
       "      <td>0</td>\n",
       "    </tr>\n",
       "    <tr>\n",
       "      <th>1</th>\n",
       "      <td>1.000000</td>\n",
       "      <td>590.000000</td>\n",
       "      <td>0.000000e+00</td>\n",
       "      <td>1.000000</td>\n",
       "      <td>590.000000</td>\n",
       "      <td>0.000000</td>\n",
       "      <td>1.000000</td>\n",
       "      <td>590.000000</td>\n",
       "      <td>0.000000</td>\n",
       "      <td>1.000000</td>\n",
       "      <td>...</td>\n",
       "      <td>0.0</td>\n",
       "      <td>0.0</td>\n",
       "      <td>4.456899</td>\n",
       "      <td>443.197258</td>\n",
       "      <td>121.885335</td>\n",
       "      <td>443.197258</td>\n",
       "      <td>14856.034960</td>\n",
       "      <td>0.0</td>\n",
       "      <td>0.0</td>\n",
       "      <td>0</td>\n",
       "    </tr>\n",
       "    <tr>\n",
       "      <th>2</th>\n",
       "      <td>1.956973</td>\n",
       "      <td>590.000000</td>\n",
       "      <td>5.820766e-11</td>\n",
       "      <td>1.973957</td>\n",
       "      <td>590.000000</td>\n",
       "      <td>0.000000</td>\n",
       "      <td>1.991242</td>\n",
       "      <td>590.000000</td>\n",
       "      <td>0.000000</td>\n",
       "      <td>1.999121</td>\n",
       "      <td>...</td>\n",
       "      <td>0.0</td>\n",
       "      <td>0.0</td>\n",
       "      <td>5.456507</td>\n",
       "      <td>470.101420</td>\n",
       "      <td>123.932152</td>\n",
       "      <td>470.101420</td>\n",
       "      <td>15359.178351</td>\n",
       "      <td>0.0</td>\n",
       "      <td>0.0</td>\n",
       "      <td>0</td>\n",
       "    </tr>\n",
       "    <tr>\n",
       "      <th>3</th>\n",
       "      <td>1.000000</td>\n",
       "      <td>60.000000</td>\n",
       "      <td>0.000000e+00</td>\n",
       "      <td>1.000000</td>\n",
       "      <td>60.000000</td>\n",
       "      <td>0.000000</td>\n",
       "      <td>1.000000</td>\n",
       "      <td>60.000000</td>\n",
       "      <td>0.000000</td>\n",
       "      <td>1.000000</td>\n",
       "      <td>...</td>\n",
       "      <td>0.0</td>\n",
       "      <td>0.0</td>\n",
       "      <td>1.000000</td>\n",
       "      <td>60.000000</td>\n",
       "      <td>0.000000</td>\n",
       "      <td>60.000000</td>\n",
       "      <td>0.000000</td>\n",
       "      <td>0.0</td>\n",
       "      <td>0.0</td>\n",
       "      <td>0</td>\n",
       "    </tr>\n",
       "    <tr>\n",
       "      <th>4</th>\n",
       "      <td>1.988608</td>\n",
       "      <td>66.034372</td>\n",
       "      <td>3.599882e+01</td>\n",
       "      <td>1.993149</td>\n",
       "      <td>66.020623</td>\n",
       "      <td>35.999575</td>\n",
       "      <td>1.997711</td>\n",
       "      <td>66.006874</td>\n",
       "      <td>35.999953</td>\n",
       "      <td>1.999771</td>\n",
       "      <td>...</td>\n",
       "      <td>0.0</td>\n",
       "      <td>0.0</td>\n",
       "      <td>1.000000</td>\n",
       "      <td>72.000000</td>\n",
       "      <td>0.000000</td>\n",
       "      <td>72.000000</td>\n",
       "      <td>0.000000</td>\n",
       "      <td>0.0</td>\n",
       "      <td>0.0</td>\n",
       "      <td>0</td>\n",
       "    </tr>\n",
       "  </tbody>\n",
       "</table>\n",
       "<p>5 rows × 116 columns</p>\n",
       "</div>"
      ],
      "text/plain": [
       "   MI_dir_L5_weight  MI_dir_L5_mean  MI_dir_L5_variance  MI_dir_L3_weight  \\\n",
       "0          1.000000       60.000000        0.000000e+00          1.000000   \n",
       "1          1.000000      590.000000        0.000000e+00          1.000000   \n",
       "2          1.956973      590.000000        5.820766e-11          1.973957   \n",
       "3          1.000000       60.000000        0.000000e+00          1.000000   \n",
       "4          1.988608       66.034372        3.599882e+01          1.993149   \n",
       "\n",
       "   MI_dir_L3_mean  MI_dir_L3_variance  MI_dir_L1_weight  MI_dir_L1_mean  \\\n",
       "0       60.000000            0.000000          1.000000       60.000000   \n",
       "1      590.000000            0.000000          1.000000      590.000000   \n",
       "2      590.000000            0.000000          1.991242      590.000000   \n",
       "3       60.000000            0.000000          1.000000       60.000000   \n",
       "4       66.020623           35.999575          1.997711       66.006874   \n",
       "\n",
       "   MI_dir_L1_variance  MI_dir_L0.1_weight  ...    HpHp_L0.1_covariance  \\\n",
       "0            0.000000            1.000000  ...                     0.0   \n",
       "1            0.000000            1.000000  ...                     0.0   \n",
       "2            0.000000            1.999121  ...                     0.0   \n",
       "3            0.000000            1.000000  ...                     0.0   \n",
       "4           35.999953            1.999771  ...                     0.0   \n",
       "\n",
       "   HpHp_L0.1_pcc  HpHp_L0.01_weight  HpHp_L0.01_mean  HpHp_L0.01_std  \\\n",
       "0            0.0           1.000000        60.000000        0.000000   \n",
       "1            0.0           4.456899       443.197258      121.885335   \n",
       "2            0.0           5.456507       470.101420      123.932152   \n",
       "3            0.0           1.000000        60.000000        0.000000   \n",
       "4            0.0           1.000000        72.000000        0.000000   \n",
       "\n",
       "   HpHp_L0.01_magnitude  HpHp_L0.01_radius  HpHp_L0.01_covariance  \\\n",
       "0             60.000000           0.000000                    0.0   \n",
       "1            443.197258       14856.034960                    0.0   \n",
       "2            470.101420       15359.178351                    0.0   \n",
       "3             60.000000           0.000000                    0.0   \n",
       "4             72.000000           0.000000                    0.0   \n",
       "\n",
       "   HpHp_L0.01_pcc  label  \n",
       "0             0.0      0  \n",
       "1             0.0      0  \n",
       "2             0.0      0  \n",
       "3             0.0      0  \n",
       "4             0.0      0  \n",
       "\n",
       "[5 rows x 116 columns]"
      ]
     },
     "execution_count": 131,
     "metadata": {},
     "output_type": "execute_result"
    }
   ],
   "source": [
    "dataset_security_camera.head()"
   ]
  },
  {
   "cell_type": "code",
   "execution_count": 132,
   "metadata": {},
   "outputs": [
    {
     "name": "stdout",
     "output_type": "stream",
     "text": [
      "<class 'pandas.core.frame.DataFrame'>\n",
      "RangeIndex: 141555 entries, 0 to 141554\n",
      "Columns: 116 entries, MI_dir_L5_weight to label\n",
      "dtypes: float64(115), int64(1)\n",
      "memory usage: 125.3 MB\n"
     ]
    }
   ],
   "source": [
    "dataset_security_camera.info()"
   ]
  },
  {
   "cell_type": "markdown",
   "metadata": {},
   "source": [
    "## Aplicando o Minibatch kmeans"
   ]
  },
  {
   "cell_type": "code",
   "execution_count": 177,
   "metadata": {},
   "outputs": [
    {
     "data": {
      "text/plain": [
       "array([[ 3.35636237e+01,  1.14022617e+02,  1.30534340e+04,\n",
       "         5.05653513e+01,  1.14013431e+02,  1.36290191e+04,\n",
       "         1.32371490e+02,  1.15095981e+02,  1.49136450e+04,\n",
       "         7.52309431e+02,  1.18793255e+02,  1.73186801e+04,\n",
       "         1.42243615e+03,  1.21242923e+02,  1.88285225e+04,\n",
       "         3.35636237e+01,  1.14022617e+02,  1.30534340e+04,\n",
       "         5.05653513e+01,  1.14013431e+02,  1.36290191e+04,\n",
       "         1.32371490e+02,  1.15095981e+02,  1.49136450e+04,\n",
       "         7.52309431e+02,  1.18793255e+02,  1.73186801e+04,\n",
       "         1.42243615e+03,  1.21242923e+02,  1.88285225e+04,\n",
       "         2.12143249e+01,  1.13867947e+02,  3.68629080e+01,\n",
       "         1.72759268e+02,  3.79603720e+04, -2.22212937e+03,\n",
       "        -5.63657102e-03,  3.19672212e+01,  1.13725006e+02,\n",
       "         3.71195235e+01,  1.74627500e+02,  3.89429564e+04,\n",
       "        -2.57371843e+03, -1.01827197e-02,  8.27665796e+01,\n",
       "         1.14192542e+02,  3.97412399e+01,  1.75389367e+02,\n",
       "         3.93397089e+04, -2.89557818e+03, -1.63140825e-02,\n",
       "         3.84854224e+02,  1.16605569e+02,  4.81026299e+01,\n",
       "         1.70010435e+02,  3.44024272e+04, -2.47254803e+03,\n",
       "        -1.07509577e-02,  5.89805026e+02,  1.18467031e+02,\n",
       "         5.72316359e+01,  1.65482364e+02,  3.01591650e+04,\n",
       "        -8.03605517e+01,  2.62934127e-02,  2.12143249e+01,\n",
       "         2.87293378e+08,  1.93167212e+08,  3.19672212e+01,\n",
       "         2.87293392e+08,  1.97518686e+10,  8.27665796e+01,\n",
       "         2.87295587e+08,  3.32388047e+12,  3.84854224e+02,\n",
       "         2.87414842e+08,  1.77766203e+14,  5.89805026e+02,\n",
       "         2.87794737e+08,  7.03660032e+14,  2.09102000e+00,\n",
       "         1.16946228e+02,  3.19861513e+01,  1.44140597e+02,\n",
       "         1.83895442e+04,  2.67214674e+03,  5.37775844e-02,\n",
       "         2.44118309e+00,  1.16955797e+02,  3.21089694e+01,\n",
       "         1.44008149e+02,  1.84022470e+04,  2.72043343e+03,\n",
       "         5.50415625e-02,  4.20211455e+00,  1.16844612e+02,\n",
       "         3.24038817e+01,  1.43765835e+02,  1.84595421e+04,\n",
       "         2.77445953e+03,  5.64605143e-02,  2.22685235e+01,\n",
       "         1.16558633e+02,  3.31185931e+01,  1.43404888e+02,\n",
       "         1.85174740e+04,  2.80952813e+03,  5.68601174e-02,\n",
       "         4.22378662e+01,  1.16557738e+02,  3.38280064e+01,\n",
       "         1.43476765e+02,  1.85377703e+04,  2.81665606e+03,\n",
       "         5.81223046e-02],\n",
       "       [ 4.89184876e+01,  7.61564584e+01,  7.19395852e+02,\n",
       "         7.49748719e+01,  7.67043289e+01,  1.09919697e+03,\n",
       "         1.88760728e+02,  7.77888593e+01,  1.84212409e+03,\n",
       "         9.89958435e+02,  7.86396708e+01,  2.14739721e+03,\n",
       "         3.29058497e+03,  7.81775601e+01,  1.79535167e+03,\n",
       "         4.89184876e+01,  7.61564584e+01,  7.19395852e+02,\n",
       "         7.49748719e+01,  7.67043289e+01,  1.09919697e+03,\n",
       "         1.88760728e+02,  7.77888593e+01,  1.84212409e+03,\n",
       "         9.89958435e+02,  7.86396708e+01,  2.14739721e+03,\n",
       "         3.29058497e+03,  7.81775601e+01,  1.79535167e+03,\n",
       "         1.03923661e+00,  7.55482461e+01,  1.56041972e+00,\n",
       "         7.83590696e+01,  1.75009506e+03,  1.24575630e+01,\n",
       "        -3.28218938e-04,  1.04674971e+00,  7.54882456e+01,\n",
       "         1.58032776e+00,  7.83405371e+01,  1.86266919e+03,\n",
       "         2.46059012e+01, -4.58981510e-04,  1.17775106e+00,\n",
       "         7.54243503e+01,  1.58375294e+00,  7.84127228e+01,\n",
       "         1.95824766e+03,  4.81456701e+01,  2.86766834e-04,\n",
       "         1.84771882e+00,  7.53931394e+01,  1.57762930e+00,\n",
       "         7.84065462e+01,  1.96799120e+03,  6.31225405e+01,\n",
       "         1.35989643e-03,  2.00942932e+00,  7.53899018e+01,\n",
       "         1.57669518e+00,  7.84027355e+01,  1.96790103e+03,\n",
       "         6.47066295e+01,  1.49558995e-03,  1.03923661e+00,\n",
       "         1.17743919e+07,  1.13832194e+16,  1.04674971e+00,\n",
       "         1.76340408e+07,  1.90674417e+16,  1.17775106e+00,\n",
       "         1.81575861e+08,  2.34588253e+17,  1.84771882e+00,\n",
       "         6.71971132e+08,  5.59024039e+17,  2.00942932e+00,\n",
       "         7.39666875e+08,  5.64896233e+17,  1.00556297e+00,\n",
       "         7.66836542e+01,  2.50839818e-01,  7.92651402e+01,\n",
       "         1.17556013e+03,  1.29299562e+01,  4.61624323e-04,\n",
       "         1.01096181e+00,  7.66955260e+01,  2.62125446e-01,\n",
       "         7.91357496e+01,  1.20515823e+03,  2.58168219e+01,\n",
       "         8.24368632e-04,  1.13884181e+00,  7.66988313e+01,\n",
       "         2.62004948e-01,  7.89435625e+01,  1.22915888e+03,\n",
       "         4.99363779e+01,  1.53391292e-03,  1.80690045e+00,\n",
       "         7.66947540e+01,  2.56713395e-01,  7.88335900e+01,\n",
       "         1.23222429e+03,  6.45955128e+01,  2.01414893e-03,\n",
       "         1.96839759e+00,  7.66941113e+01,  2.55978916e-01,\n",
       "         7.88217795e+01,  1.23209399e+03,  6.61258859e+01,\n",
       "         2.06772908e-03],\n",
       "       [ 4.35359602e+01,  8.06384036e+01,  1.89621407e+03,\n",
       "         6.19858328e+01,  8.06947317e+01,  2.09800828e+03,\n",
       "         1.30237738e+02,  8.10928724e+01,  2.39956581e+03,\n",
       "         9.64141038e+02,  8.20171503e+01,  3.19682714e+03,\n",
       "         2.96487996e+03,  8.17200777e+01,  2.96830631e+03,\n",
       "         4.35359602e+01,  8.06384036e+01,  1.89621407e+03,\n",
       "         6.19858328e+01,  8.06947317e+01,  2.09800828e+03,\n",
       "         1.30237738e+02,  8.10928724e+01,  2.39956581e+03,\n",
       "         9.64141038e+02,  8.20171503e+01,  3.19682714e+03,\n",
       "         2.96487996e+03,  8.17200777e+01,  2.96830631e+03,\n",
       "         1.07502599e+00,  7.96744250e+01,  4.85251575e-01,\n",
       "         8.78093758e+01,  1.89144288e+03,  6.77808999e+01,\n",
       "         9.39820883e-04,  1.08417898e+00,  7.96666379e+01,\n",
       "         5.03252006e-01,  8.76023806e+01,  1.93955712e+03,\n",
       "         8.47486022e+01,  1.69999514e-03,  1.12808531e+00,\n",
       "         7.96608812e+01,  6.35427502e-01,  8.73700053e+01,\n",
       "         1.99238712e+03,  1.16713468e+02,  3.69963071e-03,\n",
       "         2.29161347e+00,  8.01382137e+01,  2.64048783e+00,\n",
       "         8.75231263e+01,  3.07334645e+03,  1.86007744e+02,\n",
       "         4.12407052e-03,  3.12451003e+00,  8.08260288e+01,\n",
       "         3.18214742e+00,  8.79321033e+01,  3.83731147e+03,\n",
       "         2.77000791e+02,  3.82484734e-03,  1.07502599e+00,\n",
       "         1.73330660e+06,  2.30837748e+15,  1.08417898e+00,\n",
       "         2.06106325e+06,  2.74995309e+15,  1.12808531e+00,\n",
       "         5.85652019e+06,  8.23374727e+15,  2.29161347e+00,\n",
       "         3.26656591e+08,  3.77611862e+17,  3.12451003e+00,\n",
       "         4.61485304e+08,  4.76702834e+17,  1.04422207e+00,\n",
       "         7.96766009e+01,  4.71861317e-01,  8.72284354e+01,\n",
       "         1.89036322e+03,  6.77808632e+01,  9.05912620e-04,\n",
       "         1.05192136e+00,  7.96716051e+01,  4.69387438e-01,\n",
       "         8.70242302e+01,  1.93813917e+03,  8.47427644e+01,\n",
       "         1.27960517e-03,  1.08238221e+00,  7.96595435e+01,\n",
       "         4.65280597e-01,  8.67263550e+01,  1.97665581e+03,\n",
       "         1.16232890e+02,  2.03830968e-03,  2.15323069e+00,\n",
       "         7.99543286e+01,  8.82998261e-01,  8.62896460e+01,\n",
       "         2.36839099e+03,  1.86019228e+02,  3.22137035e-03,\n",
       "         2.90736577e+00,  8.00398963e+01,  9.21345827e-01,\n",
       "         8.60298100e+01,  2.62801126e+03,  2.77594591e+02,\n",
       "         4.42414901e-03]])"
      ]
     },
     "execution_count": 177,
     "metadata": {},
     "output_type": "execute_result"
    }
   ],
   "source": [
    "from sklearn.cluster import MiniBatchKMeans\n",
    "\n",
    "minibatch_kmeans = MiniBatchKMeans(n_clusters = 3, init='k-means++', max_iter=300, n_init=10, random_state=0, batch_size = 500)\n",
    "X = dataset_security_camera.drop('label',1)\n",
    "\n",
    "minibatch_kmeans.fit(X)\n",
    "\n",
    "minibatch_kmeans.cluster_centers_"
   ]
  },
  {
   "cell_type": "code",
   "execution_count": 210,
   "metadata": {},
   "outputs": [
    {
     "data": {
      "text/plain": [
       "array([0, 0, 0, ..., 0, 0, 0], dtype=int32)"
      ]
     },
     "execution_count": 210,
     "metadata": {},
     "output_type": "execute_result"
    }
   ],
   "source": [
    "labels = minibatch_kmeans.labels_\n",
    "\n",
    "labels"
   ]
  },
  {
   "cell_type": "code",
   "execution_count": 179,
   "metadata": {},
   "outputs": [
    {
     "data": {
      "text/plain": [
       "-5.836516713801532e+37"
      ]
     },
     "execution_count": 179,
     "metadata": {},
     "output_type": "execute_result"
    }
   ],
   "source": [
    "minibatch_kmeans.score(X)"
   ]
  },
  {
   "cell_type": "code",
   "execution_count": 180,
   "metadata": {},
   "outputs": [
    {
     "data": {
      "text/plain": [
       "<matplotlib.collections.PathCollection at 0x7f873d219c50>"
      ]
     },
     "execution_count": 180,
     "metadata": {},
     "output_type": "execute_result"
    },
    {
     "data": {
      "image/png": "[encoded data removed]",
      "text/plain": [
       "<matplotlib.figure.Figure at 0x7f873e002710>"
      ]
     },
     "metadata": {},
     "output_type": "display_data"
    }
   ],
   "source": [
    "centroids = minibatch_kmeans.cluster_centers_\n",
    "\n",
    "centroids_x = centroids[:,0]\n",
    "centroids_y = centroids[:,1]\n",
    "\n",
    "plt.scatter(centroids_x, centroids_y, marker= 'D',s=50)"
   ]
  },
  {
   "cell_type": "markdown",
   "metadata": {},
   "source": [
    "# Métricas"
   ]
  },
  {
   "cell_type": "markdown",
   "metadata": {},
   "source": [
    "## Atributo Inertia\n",
    "\n",
    "É um atributo computado que mede a distância de cada registro do centróide do cluster ao qual ele pertence. Assim, quando menor for esse valor, melhor."
   ]
  },
  {
   "cell_type": "code",
   "execution_count": 181,
   "metadata": {},
   "outputs": [
    {
     "data": {
      "text/plain": [
       "5.836516713801533e+37"
      ]
     },
     "execution_count": 181,
     "metadata": {},
     "output_type": "execute_result"
    }
   ],
   "source": [
    "minibatch_kmeans.inertia_"
   ]
  },
  {
   "attachments": {
    "image.png": {
     "image/png": "[encoded data removed]"
    }
   },
   "cell_type": "markdown",
   "metadata": {},
   "source": [
    "## Calinski-Harabaz Score\n",
    "\n",
    "Se os rótulos de verdade do solo não forem conhecidos, o índice de Calinski-Harabaz pode ser usado para avaliar o modelo, onde um maior escore de Calinski-Harabaz se relaciona a um modelo com clusters melhor definidos.\n",
    "\n",
    "Para kclusters, o escore Calinski-Harabaz sé dado como a razão entre a média da dispersão entre os clusters e a dispersão dentro do cluster:\n",
    "\n",
    "![image.png](attachment:image.png)"
   ]
  },
  {
   "cell_type": "code",
   "execution_count": 211,
   "metadata": {},
   "outputs": [
    {
     "data": {
      "text/plain": [
       "2256174.5550905084"
      ]
     },
     "execution_count": 211,
     "metadata": {},
     "output_type": "execute_result"
    }
   ],
   "source": [
    "metrics.calinski_harabaz_score(X, labels)"
   ]
  },
  {
   "cell_type": "markdown",
   "metadata": {},
   "source": [
    "## Testando variações de n_init\n",
    "\n",
    "n_init é o atributo responsável por setar o número de inicializações aleatórias que são tentadas. Em contraste com o KMeans, o algoritmo é executado apenas uma vez, usando a melhor das n_initinicializações medida pela inércia.\n"
   ]
  },
  {
   "cell_type": "code",
   "execution_count": 215,
   "metadata": {},
   "outputs": [
    {
     "name": "stdout",
     "output_type": "stream",
     "text": [
      "\n",
      "O mínimo é: 5.830733910167941e+37  N_init:  61\n",
      "\n",
      "O máximo de calinski_harabaz é: 2257701.287051781  N_init:  18\n"
     ]
    }
   ],
   "source": [
    "inertias = []\n",
    "habaz = []\n",
    "\n",
    "for i in range(1,100):\n",
    "    minibatch_kmeans = MiniBatchKMeans(n_clusters = 3, init='k-means++', max_iter=300, n_init=i, random_state=0, batch_size = 500)\n",
    "    minibatch_kmeans.fit(X)\n",
    "    \n",
    "    inertias.append(minibatch_kmeans.inertia_)\n",
    "    \n",
    "    labels = minibatch_kmeans.labels_\n",
    "\n",
    "    habaz.append(metrics.calinski_harabaz_score(X, labels)) \n",
    "    \n",
    "print(\"\\nO mínimo é:\", min(inertias), \" N_init: \", inertias.index(min(inertias)) + 1)    \n",
    "print(\"\\nO máximo de calinski_harabaz é:\", max(habaz), \" N_init: \", habaz.index(max(habaz)) + 1)"
   ]
  },
  {
   "cell_type": "markdown",
   "metadata": {},
   "source": [
    "### Impacto na clusterização\n",
    "\n",
    "#### Inertia"
   ]
  },
  {
   "cell_type": "code",
   "execution_count": 193,
   "metadata": {},
   "outputs": [
    {
     "data": {
      "image/png": "[encoded data removed]",
      "text/plain": [
       "<matplotlib.figure.Figure at 0x7f873d3122e8>"
      ]
     },
     "metadata": {},
     "output_type": "display_data"
    }
   ],
   "source": [
    "plt.plot(range(1,100), inertias)\n",
    "plt.show()"
   ]
  },
  {
   "cell_type": "markdown",
   "metadata": {},
   "source": [
    "#### Habaz"
   ]
  },
  {
   "cell_type": "code",
   "execution_count": 218,
   "metadata": {},
   "outputs": [
    {
     "data": {
      "image/png": "[encoded data removed]",
      "text/plain": [
       "<matplotlib.figure.Figure at 0x7f873ddf1f60>"
      ]
     },
     "metadata": {},
     "output_type": "display_data"
    }
   ],
   "source": [
    "plt.plot(range(1,100), habaz)\n",
    "plt.show()"
   ]
  }
 ],
 "metadata": {
  "kernelspec": {
   "display_name": "Python 3",
   "language": "python",
   "name": "python3"
  },
  "language_info": {
   "codemirror_mode": {
    "name": "ipython",
    "version": 3
   },
   "file_extension": ".py",
   "mimetype": "text/x-python",
   "name": "python",
   "nbconvert_exporter": "python",
   "pygments_lexer": "ipython3",
   "version": "3.6.4"
  }
 },
 "nbformat": 4,
 "nbformat_minor": 2
}
