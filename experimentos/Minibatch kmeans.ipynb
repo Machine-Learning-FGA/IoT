{
 "cells": [
  {
   "cell_type": "markdown",
   "metadata": {},
   "source": [
    "# Minibatchkmeans"
   ]
  },
  {
   "cell_type": "markdown",
   "metadata": {},
   "source": [
    "É um algorítmo do sklearn para clusterização, uma variante do Kmeans, que usa minibatches para reduzir o tempo de computação, sendo estes subconjuntos dos dados de entrada que são amostrados de maneira aleatória a cada iteração do treinamento, convergindo em menos passos para a solução. Ele funciona entre dois passos principais: São sorteadas X amostras entre os conjuntos de dados para formar um minibatch e estes são atribuídos ao centróide mais próximo e; O centróide é atualizado.Essas duas etapas se repetem até que ocorra a convergência ou alcance um número Y de iterações.\n",
    "\n",
    "Ele possui a seguinte estrutura de parâmetros possíveis : \n",
    "\n",
    "\n",
    "class sklearn.cluster.MiniBatchKMeans(n_clusters=8, init=’k-means++’, max_iter=100, batch_size=100, verbose=0, compute_labels=True, random_state=None, tol=0.0, max_no_improvement=10, init_size=None, n_init=3, reassignment_ratio=0.01)\n",
    "\n",
    "Assim, você pode controlar o número de centróides a serem gerados com o n_clusters, pode controlar o número de iterações para não aguardar a convergência através do max_iter.\n",
    "\n",
    "Com o init é possível controlar os centros iniciais dos clusters, sendo  o ‘k-means++ responsável por escolher um centro que forneça um caminho rápido para a convergência, mas há ainda o random que rescolhe k observações de maneira randomica nos dados para serem os centróides iniciais. É possível ainda controlar o número de batches através do atributo batch_size. \n",
    "\n",
    "\n",
    "\n",
    "\n",
    "\n",
    "\n",
    "\n",
    "\n",
    "\n",
    "\n",
    "\n",
    "\n",
    "\n",
    "\n"
   ]
  },
  {
   "cell_type": "markdown",
   "metadata": {},
   "source": [
    "## Importando as bibliotecas"
   ]
  },
  {
   "cell_type": "code",
   "execution_count": 21,
   "metadata": {
    "collapsed": true
   },
   "outputs": [],
   "source": [
    "import pandas as pd\n",
    "import matplotlib.pyplot as plt\n",
    "import seaborn as sns; sns.set()  # for plot styling\n",
    "from sklearn import metrics\n",
    "from sklearn.metrics import confusion_matrix\n",
    "from sklearn.metrics import pairwise_distances\n",
    "%matplotlib inline"
   ]
  },
  {
   "cell_type": "markdown",
   "metadata": {},
   "source": [
    "## Leitura do dataset \n",
    "\n",
    "O dataset utilizado foi o produzido pela equipe a fim de reduzir o tamanho do arquivo, por tanto, considera apenas a câmera de segurança."
   ]
  },
  {
   "cell_type": "code",
   "execution_count": 23,
   "metadata": {},
   "outputs": [],
   "source": [
    "dataset_security_camera = pd.read_csv('../dataset/camera.csv')"
   ]
  },
  {
   "cell_type": "markdown",
   "metadata": {},
   "source": [
    "## Visualização Rápida\n",
    "\n",
    "Percebe-se nesse dataset a inclusão de uma coluna, correspondente à classificação dos botnets gafgyt (1) e mirai(2), além do tráfego normal (0)"
   ]
  },
  {
   "cell_type": "code",
   "execution_count": 229,
   "metadata": {},
   "outputs": [
    {
     "data": {
      "text/html": [
       "<div>\n",
       "<style scoped>\n",
       "    .dataframe tbody tr th:only-of-type {\n",
       "        vertical-align: middle;\n",
       "    }\n",
       "\n",
       "    .dataframe tbody tr th {\n",
       "        vertical-align: top;\n",
       "    }\n",
       "\n",
       "    .dataframe thead th {\n",
       "        text-align: right;\n",
       "    }\n",
       "</style>\n",
       "<table border=\"1\" class=\"dataframe\">\n",
       "  <thead>\n",
       "    <tr style=\"text-align: right;\">\n",
       "      <th></th>\n",
       "      <th>MI_dir_L5_weight</th>\n",
       "      <th>MI_dir_L5_mean</th>\n",
       "      <th>MI_dir_L5_variance</th>\n",
       "      <th>MI_dir_L3_weight</th>\n",
       "      <th>MI_dir_L3_mean</th>\n",
       "      <th>MI_dir_L3_variance</th>\n",
       "      <th>MI_dir_L1_weight</th>\n",
       "      <th>MI_dir_L1_mean</th>\n",
       "      <th>MI_dir_L1_variance</th>\n",
       "      <th>MI_dir_L0.1_weight</th>\n",
       "      <th>...</th>\n",
       "      <th>HpHp_L0.1_covariance</th>\n",
       "      <th>HpHp_L0.1_pcc</th>\n",
       "      <th>HpHp_L0.01_weight</th>\n",
       "      <th>HpHp_L0.01_mean</th>\n",
       "      <th>HpHp_L0.01_std</th>\n",
       "      <th>HpHp_L0.01_magnitude</th>\n",
       "      <th>HpHp_L0.01_radius</th>\n",
       "      <th>HpHp_L0.01_covariance</th>\n",
       "      <th>HpHp_L0.01_pcc</th>\n",
       "      <th>label</th>\n",
       "    </tr>\n",
       "  </thead>\n",
       "  <tbody>\n",
       "    <tr>\n",
       "      <th>0</th>\n",
       "      <td>1.000000</td>\n",
       "      <td>60.000000</td>\n",
       "      <td>0.000000e+00</td>\n",
       "      <td>1.000000</td>\n",
       "      <td>60.000000</td>\n",
       "      <td>0.000000</td>\n",
       "      <td>1.000000</td>\n",
       "      <td>60.000000</td>\n",
       "      <td>0.000000</td>\n",
       "      <td>1.000000</td>\n",
       "      <td>...</td>\n",
       "      <td>0.0</td>\n",
       "      <td>0.0</td>\n",
       "      <td>1.000000</td>\n",
       "      <td>60.000000</td>\n",
       "      <td>0.000000</td>\n",
       "      <td>60.000000</td>\n",
       "      <td>0.000000</td>\n",
       "      <td>0.0</td>\n",
       "      <td>0.0</td>\n",
       "      <td>0</td>\n",
       "    </tr>\n",
       "    <tr>\n",
       "      <th>1</th>\n",
       "      <td>1.000000</td>\n",
       "      <td>590.000000</td>\n",
       "      <td>0.000000e+00</td>\n",
       "      <td>1.000000</td>\n",
       "      <td>590.000000</td>\n",
       "      <td>0.000000</td>\n",
       "      <td>1.000000</td>\n",
       "      <td>590.000000</td>\n",
       "      <td>0.000000</td>\n",
       "      <td>1.000000</td>\n",
       "      <td>...</td>\n",
       "      <td>0.0</td>\n",
       "      <td>0.0</td>\n",
       "      <td>4.456899</td>\n",
       "      <td>443.197258</td>\n",
       "      <td>121.885335</td>\n",
       "      <td>443.197258</td>\n",
       "      <td>14856.034960</td>\n",
       "      <td>0.0</td>\n",
       "      <td>0.0</td>\n",
       "      <td>0</td>\n",
       "    </tr>\n",
       "    <tr>\n",
       "      <th>2</th>\n",
       "      <td>1.956973</td>\n",
       "      <td>590.000000</td>\n",
       "      <td>5.820766e-11</td>\n",
       "      <td>1.973957</td>\n",
       "      <td>590.000000</td>\n",
       "      <td>0.000000</td>\n",
       "      <td>1.991242</td>\n",
       "      <td>590.000000</td>\n",
       "      <td>0.000000</td>\n",
       "      <td>1.999121</td>\n",
       "      <td>...</td>\n",
       "      <td>0.0</td>\n",
       "      <td>0.0</td>\n",
       "      <td>5.456507</td>\n",
       "      <td>470.101420</td>\n",
       "      <td>123.932152</td>\n",
       "      <td>470.101420</td>\n",
       "      <td>15359.178351</td>\n",
       "      <td>0.0</td>\n",
       "      <td>0.0</td>\n",
       "      <td>0</td>\n",
       "    </tr>\n",
       "    <tr>\n",
       "      <th>3</th>\n",
       "      <td>1.000000</td>\n",
       "      <td>60.000000</td>\n",
       "      <td>0.000000e+00</td>\n",
       "      <td>1.000000</td>\n",
       "      <td>60.000000</td>\n",
       "      <td>0.000000</td>\n",
       "      <td>1.000000</td>\n",
       "      <td>60.000000</td>\n",
       "      <td>0.000000</td>\n",
       "      <td>1.000000</td>\n",
       "      <td>...</td>\n",
       "      <td>0.0</td>\n",
       "      <td>0.0</td>\n",
       "      <td>1.000000</td>\n",
       "      <td>60.000000</td>\n",
       "      <td>0.000000</td>\n",
       "      <td>60.000000</td>\n",
       "      <td>0.000000</td>\n",
       "      <td>0.0</td>\n",
       "      <td>0.0</td>\n",
       "      <td>0</td>\n",
       "    </tr>\n",
       "    <tr>\n",
       "      <th>4</th>\n",
       "      <td>1.988608</td>\n",
       "      <td>66.034372</td>\n",
       "      <td>3.599882e+01</td>\n",
       "      <td>1.993149</td>\n",
       "      <td>66.020623</td>\n",
       "      <td>35.999575</td>\n",
       "      <td>1.997711</td>\n",
       "      <td>66.006874</td>\n",
       "      <td>35.999953</td>\n",
       "      <td>1.999771</td>\n",
       "      <td>...</td>\n",
       "      <td>0.0</td>\n",
       "      <td>0.0</td>\n",
       "      <td>1.000000</td>\n",
       "      <td>72.000000</td>\n",
       "      <td>0.000000</td>\n",
       "      <td>72.000000</td>\n",
       "      <td>0.000000</td>\n",
       "      <td>0.0</td>\n",
       "      <td>0.0</td>\n",
       "      <td>0</td>\n",
       "    </tr>\n",
       "  </tbody>\n",
       "</table>\n",
       "<p>5 rows × 116 columns</p>\n",
       "</div>"
      ],
      "text/plain": [
       "   MI_dir_L5_weight  MI_dir_L5_mean  MI_dir_L5_variance  MI_dir_L3_weight  \\\n",
       "0          1.000000       60.000000        0.000000e+00          1.000000   \n",
       "1          1.000000      590.000000        0.000000e+00          1.000000   \n",
       "2          1.956973      590.000000        5.820766e-11          1.973957   \n",
       "3          1.000000       60.000000        0.000000e+00          1.000000   \n",
       "4          1.988608       66.034372        3.599882e+01          1.993149   \n",
       "\n",
       "   MI_dir_L3_mean  MI_dir_L3_variance  MI_dir_L1_weight  MI_dir_L1_mean  \\\n",
       "0       60.000000            0.000000          1.000000       60.000000   \n",
       "1      590.000000            0.000000          1.000000      590.000000   \n",
       "2      590.000000            0.000000          1.991242      590.000000   \n",
       "3       60.000000            0.000000          1.000000       60.000000   \n",
       "4       66.020623           35.999575          1.997711       66.006874   \n",
       "\n",
       "   MI_dir_L1_variance  MI_dir_L0.1_weight  ...    HpHp_L0.1_covariance  \\\n",
       "0            0.000000            1.000000  ...                     0.0   \n",
       "1            0.000000            1.000000  ...                     0.0   \n",
       "2            0.000000            1.999121  ...                     0.0   \n",
       "3            0.000000            1.000000  ...                     0.0   \n",
       "4           35.999953            1.999771  ...                     0.0   \n",
       "\n",
       "   HpHp_L0.1_pcc  HpHp_L0.01_weight  HpHp_L0.01_mean  HpHp_L0.01_std  \\\n",
       "0            0.0           1.000000        60.000000        0.000000   \n",
       "1            0.0           4.456899       443.197258      121.885335   \n",
       "2            0.0           5.456507       470.101420      123.932152   \n",
       "3            0.0           1.000000        60.000000        0.000000   \n",
       "4            0.0           1.000000        72.000000        0.000000   \n",
       "\n",
       "   HpHp_L0.01_magnitude  HpHp_L0.01_radius  HpHp_L0.01_covariance  \\\n",
       "0             60.000000           0.000000                    0.0   \n",
       "1            443.197258       14856.034960                    0.0   \n",
       "2            470.101420       15359.178351                    0.0   \n",
       "3             60.000000           0.000000                    0.0   \n",
       "4             72.000000           0.000000                    0.0   \n",
       "\n",
       "   HpHp_L0.01_pcc  label  \n",
       "0             0.0      0  \n",
       "1             0.0      0  \n",
       "2             0.0      0  \n",
       "3             0.0      0  \n",
       "4             0.0      0  \n",
       "\n",
       "[5 rows x 116 columns]"
      ]
     },
     "execution_count": 229,
     "metadata": {},
     "output_type": "execute_result"
    }
   ],
   "source": [
    "dataset_security_camera.head()"
   ]
  },
  {
   "cell_type": "code",
   "execution_count": 230,
   "metadata": {},
   "outputs": [
    {
     "name": "stdout",
     "output_type": "stream",
     "text": [
      "<class 'pandas.core.frame.DataFrame'>\n",
      "RangeIndex: 141555 entries, 0 to 141554\n",
      "Columns: 116 entries, MI_dir_L5_weight to label\n",
      "dtypes: float64(115), int64(1)\n",
      "memory usage: 125.3 MB\n"
     ]
    }
   ],
   "source": [
    "dataset_security_camera.info()"
   ]
  },
  {
   "cell_type": "markdown",
   "metadata": {},
   "source": [
    "## Aplicando o Minibatch kmeans"
   ]
  },
  {
   "cell_type": "code",
   "execution_count": 232,
   "metadata": {},
   "outputs": [
    {
     "data": {
      "text/plain": [
       "array([[ 3.35937664e+01,  1.13849115e+02,  1.30010536e+04,\n",
       "         5.06167634e+01,  1.13856481e+02,  1.35771875e+04,\n",
       "         1.32570729e+02,  1.14934198e+02,  1.48577033e+04,\n",
       "         7.54249585e+02,  1.18623661e+02,  1.72728001e+04,\n",
       "         1.42694043e+03,  1.21085941e+02,  1.87864140e+04,\n",
       "         3.35937664e+01,  1.13849115e+02,  1.30010536e+04,\n",
       "         5.06167634e+01,  1.13856481e+02,  1.35771875e+04,\n",
       "         1.32570729e+02,  1.14934198e+02,  1.48577033e+04,\n",
       "         7.54249585e+02,  1.18623661e+02,  1.72728001e+04,\n",
       "         1.42694043e+03,  1.21085941e+02,  1.87864140e+04,\n",
       "         2.12484130e+01,  1.13618459e+02,  3.66976112e+01,\n",
       "         1.72343789e+02,  3.77937534e+04, -2.21826885e+03,\n",
       "        -5.68037405e-03,  3.20390325e+01,  1.13479007e+02,\n",
       "         3.69518395e+01,  1.74206686e+02,  3.87731514e+04,\n",
       "        -2.56741474e+03, -1.01399630e-02,  8.30458880e+01,\n",
       "         1.13942786e+02,  3.95426144e+01,  1.74971617e+02,\n",
       "         3.91695867e+04, -2.88454081e+03, -1.61381359e-02,\n",
       "         3.86083809e+02,  1.16368013e+02,  4.79563565e+01,\n",
       "         1.69667989e+02,  3.43030480e+04, -2.46720189e+03,\n",
       "        -1.07732435e-02,  5.91240469e+02,  1.18251164e+02,\n",
       "         5.71060120e+01,  1.65193889e+02,  3.00906900e+04,\n",
       "        -8.14053040e+01,  2.62453586e-02,  2.12484130e+01,\n",
       "         2.87262019e+08,  2.05357316e+08,  3.20390325e+01,\n",
       "         2.87262033e+08,  2.12777018e+10,  8.30458880e+01,\n",
       "         2.87264916e+08,  4.35470827e+12,  3.86083809e+02,\n",
       "         2.87424508e+08,  2.34733099e+14,  5.91240469e+02,\n",
       "         2.87931186e+08,  9.02445366e+14,  2.08783001e+00,\n",
       "         1.16715868e+02,  3.19159537e+01,  1.43861663e+02,\n",
       "         1.83168686e+04,  2.66823472e+03,  5.36954933e-02,\n",
       "         2.43966888e+00,  1.16727718e+02,  3.20386499e+01,\n",
       "         1.43730697e+02,  1.83291929e+04,  2.71639140e+03,\n",
       "         5.49644251e-02,  4.21072459e+00,  1.16619692e+02,\n",
       "         3.23309094e+01,  1.43490254e+02,  1.83839348e+04,\n",
       "         2.77015346e+03,  5.63877017e-02,  2.24100297e+01,\n",
       "         1.16342645e+02,  3.30452235e+01,  1.43131062e+02,\n",
       "         1.84448623e+04,  2.80528289e+03,  5.67577514e-02,\n",
       "         4.25084316e+01,  1.16342745e+02,  3.37591633e+01,\n",
       "         1.43196966e+02,  1.84685802e+04,  2.81338693e+03,\n",
       "         5.80808690e-02],\n",
       "       [ 4.65604478e+01,  7.80280299e+01,  1.17376914e+03,\n",
       "         6.87937568e+01,  7.82996110e+01,  1.45915931e+03,\n",
       "         1.58891067e+02,  7.89522843e+01,  1.96508352e+03,\n",
       "         9.81923270e+02,  7.97569557e+01,  2.53539641e+03,\n",
       "         3.13277533e+03,  7.93715877e+01,  2.24862628e+03,\n",
       "         4.65604478e+01,  7.80280299e+01,  1.17376914e+03,\n",
       "         6.87937568e+01,  7.82996110e+01,  1.45915931e+03,\n",
       "         1.58891067e+02,  7.89522843e+01,  1.96508352e+03,\n",
       "         9.81923270e+02,  7.97569557e+01,  2.53539641e+03,\n",
       "         3.13277533e+03,  7.93715877e+01,  2.24862628e+03,\n",
       "         1.05146596e+00,  7.66548709e+01,  9.26251001e-01,\n",
       "         8.02072330e+01,  1.76319301e+03,  4.15675958e+01,\n",
       "         3.92874147e-04,  1.05932250e+00,  7.66304717e+01,\n",
       "         9.43264332e-01,  8.00962776e+01,  1.83739218e+03,\n",
       "         5.58810098e+01,  6.54033259e-04,  1.14191922e+00,\n",
       "         7.66062024e+01,  9.63609305e-01,  7.99906145e+01,\n",
       "         1.89983831e+03,  8.29680116e+01,  1.86176158e-03,\n",
       "         2.08222614e+00,  7.67905763e+01,  1.47769234e+00,\n",
       "         8.01297214e+01,  2.10788169e+03,  1.00087414e+02,\n",
       "         3.13506412e-03,  2.59191784e+00,  7.71209874e+01,\n",
       "         1.72220837e+00,  8.04504919e+01,  2.35369377e+03,\n",
       "         1.01926737e+02,  3.41611220e-03,  1.05146596e+00,\n",
       "         6.07203787e+06,  6.24507207e+15,  1.05932250e+00,\n",
       "         9.01568091e+06,  1.01161202e+16,  1.14191922e+00,\n",
       "         8.64482793e+07,  1.12061316e+17,  2.08222614e+00,\n",
       "         4.89287384e+08,  4.65450405e+17,  2.59191784e+00,\n",
       "         5.91968895e+08,  5.19307437e+17,  1.02060304e+00,\n",
       "         7.71418285e+01,  3.52441585e-01,  8.05677851e+01,\n",
       "         1.51572430e+03,  4.17682073e+01,  6.82594614e-04,\n",
       "         1.02702122e+00,  7.71442718e+01,  3.55979400e-01,\n",
       "         8.04030107e+01,  1.55398463e+03,  5.63759162e+01,\n",
       "         1.03835997e-03,  1.10362515e+00,  7.71389591e+01,\n",
       "         3.46922475e-01,  8.01612789e+01,  1.58461087e+03,\n",
       "         8.35790792e+01,  1.74768612e-03,  2.01379149e+00,\n",
       "         7.71331238e+01,  3.36716560e-01,  8.00250816e+01,\n",
       "         1.58854592e+03,  1.00403262e+02,  2.23926474e-03,\n",
       "         2.50438701e+00,  7.71362619e+01,  3.34673529e-01,\n",
       "         8.00135911e+01,  1.58836757e+03,  1.02185829e+02,\n",
       "         2.29483280e-03]])"
      ]
     },
     "execution_count": 232,
     "metadata": {},
     "output_type": "execute_result"
    }
   ],
   "source": [
    "from sklearn.cluster import MiniBatchKMeans\n",
    "\n",
    "minibatch_kmeans = MiniBatchKMeans(n_clusters = 2, init='k-means++', max_iter=300, n_init=10, random_state=0, batch_size = 500)\n",
    "X = dataset_security_camera.drop('label',1)\n",
    "\n",
    "minibatch_kmeans.fit(X)\n",
    "\n",
    "minibatch_kmeans.cluster_centers_"
   ]
  },
  {
   "cell_type": "code",
   "execution_count": 242,
   "metadata": {},
   "outputs": [
    {
     "data": {
      "text/plain": [
       "array([0, 0, 0, ..., 0, 0, 0], dtype=int32)"
      ]
     },
     "execution_count": 242,
     "metadata": {},
     "output_type": "execute_result"
    }
   ],
   "source": [
    "labels = minibatch_kmeans.labels_\n",
    "\n",
    "labels"
   ]
  },
  {
   "cell_type": "code",
   "execution_count": 243,
   "metadata": {},
   "outputs": [
    {
     "data": {
      "text/plain": [
       "-1.3645496703882812e+38"
      ]
     },
     "execution_count": 243,
     "metadata": {},
     "output_type": "execute_result"
    }
   ],
   "source": [
    "minibatch_kmeans.score(X)"
   ]
  },
  {
   "cell_type": "code",
   "execution_count": 235,
   "metadata": {},
   "outputs": [
    {
     "data": {
      "text/plain": [
       "<matplotlib.collections.PathCollection at 0x7f873dfafc88>"
      ]
     },
     "execution_count": 235,
     "metadata": {},
     "output_type": "execute_result"
    },
    {
     "data": {
      "image/png": "[encoded data removed]",
      "text/plain": [
       "<matplotlib.figure.Figure at 0x7f873e026f28>"
      ]
     },
     "metadata": {},
     "output_type": "display_data"
    }
   ],
   "source": [
    "centroids = minibatch_kmeans.cluster_centers_\n",
    "\n",
    "centroids_x = centroids[:,0]\n",
    "centroids_y = centroids[:,1]\n",
    "\n",
    "plt.scatter(centroids_x, centroids_y, marker= 'D',s=50)"
   ]
  },
  {
   "cell_type": "markdown",
   "metadata": {},
   "source": [
    "# Métricas"
   ]
  },
  {
   "cell_type": "markdown",
   "metadata": {},
   "source": [
    "## Atributo Inertia\n",
    "\n",
    "É um atributo computado que mede a distância de cada registro do centróide do cluster ao qual ele pertence. Assim, quando menor for esse valor, melhor."
   ]
  },
  {
   "cell_type": "code",
   "execution_count": 236,
   "metadata": {},
   "outputs": [
    {
     "data": {
      "text/plain": [
       "1.3628182093371092e+38"
      ]
     },
     "execution_count": 236,
     "metadata": {},
     "output_type": "execute_result"
    }
   ],
   "source": [
    "minibatch_kmeans.inertia_"
   ]
  },
  {
   "attachments": {
    "image.png": {
     "image/png": "[encoded data removed]"
    }
   },
   "cell_type": "markdown",
   "metadata": {},
   "source": [
    "## Calinski-Harabaz Score\n",
    "\n",
    "Se os rótulos de verdade do solo não forem conhecidos, o índice de Calinski-Harabaz pode ser usado para avaliar o modelo, onde um maior escore de Calinski-Harabaz se relaciona a um modelo com clusters melhor definidos.\n",
    "\n",
    "Para kclusters, o escore Calinski-Harabaz sé dado como a razão entre a média da dispersão entre os clusters e a dispersão dentro do cluster:\n",
    "\n",
    "![image.png](attachment:image.png)"
   ]
  },
  {
   "cell_type": "code",
   "execution_count": 244,
   "metadata": {},
   "outputs": [
    {
     "data": {
      "text/plain": [
       "1860733.8547882275"
      ]
     },
     "execution_count": 244,
     "metadata": {},
     "output_type": "execute_result"
    }
   ],
   "source": [
    "metrics.calinski_harabaz_score(X, labels)"
   ]
  },
  {
   "cell_type": "markdown",
   "metadata": {},
   "source": [
    "## Matriz de Confusão\n",
    "\n",
    "É usada para avaliar a precisão de uma classificação que relaciona a label predita com a real para saber se corresponde. \n",
    "\n",
    "Assim, na classificação binária, a contagem de falsos verdadeiros é  C_ {0,0}, falsos negativos C_ {1,0}, positivos verdadeiros  C_ {1,1}e falsos positivos C_ {0,1}.\n"
   ]
  },
  {
   "cell_type": "code",
   "execution_count": 238,
   "metadata": {},
   "outputs": [
    {
     "data": {
      "text/plain": [
       "array([[91414,   141,     0],\n",
       "       [21613,  3387,     0],\n",
       "       [24963,    37,     0]])"
      ]
     },
     "execution_count": 238,
     "metadata": {},
     "output_type": "execute_result"
    }
   ],
   "source": [
    "y_true = dataset_security_camera['label']\n",
    "y_pred = labels\n",
    "confusion_matrix(y_true, y_pred)"
   ]
  },
  {
   "cell_type": "markdown",
   "metadata": {},
   "source": [
    "## Testando variações de n_init\n",
    "\n",
    "n_init é o atributo responsável por setar o número de inicializações aleatórias que são tentadas. Em contraste com o KMeans, o algoritmo é executado apenas uma vez, usando a melhor das n_initinicializações medida pela inércia.\n"
   ]
  },
  {
   "cell_type": "code",
   "execution_count": 239,
   "metadata": {},
   "outputs": [
    {
     "name": "stdout",
     "output_type": "stream",
     "text": [
      "\n",
      "O mínimo de inertia é: 1.3558493804467572e+38  N_init:  34\n",
      "\n",
      "O máximo de calinski_harabaz é: 1861020.0703772616  N_init:  1\n"
     ]
    }
   ],
   "source": [
    "inertias = []\n",
    "habaz = []\n",
    "\n",
    "for i in range(1,100):\n",
    "    minibatch_kmeans = MiniBatchKMeans(n_clusters = 2, init='k-means++', max_iter=300, n_init=i, random_state=0, batch_size = 500)\n",
    "    minibatch_kmeans.fit(X)\n",
    "    \n",
    "    inertias.append(minibatch_kmeans.inertia_)\n",
    "    \n",
    "    labels = minibatch_kmeans.labels_\n",
    "\n",
    "    habaz.append(metrics.calinski_harabaz_score(X, labels)) \n",
    "    \n",
    "print(\"\\nO mínimo de inertia é:\", min(inertias), \" N_init: \", inertias.index(min(inertias)) + 1)    \n",
    "print(\"\\nO máximo de calinski_harabaz é:\", max(habaz), \" N_init: \", habaz.index(max(habaz)) + 1)"
   ]
  },
  {
   "cell_type": "markdown",
   "metadata": {},
   "source": [
    "### Impacto na clusterização\n",
    "\n",
    "#### Inertia"
   ]
  },
  {
   "cell_type": "code",
   "execution_count": 240,
   "metadata": {},
   "outputs": [
    {
     "data": {
      "image/png": "[encoded data removed]",
      "text/plain": [
       "<matplotlib.figure.Figure at 0x7f873d168358>"
      ]
     },
     "metadata": {},
     "output_type": "display_data"
    }
   ],
   "source": [
    "plt.plot(range(1,100), inertias)\n",
    "plt.show()"
   ]
  },
  {
   "cell_type": "markdown",
   "metadata": {},
   "source": [
    "#### Habaz"
   ]
  },
  {
   "cell_type": "code",
   "execution_count": 241,
   "metadata": {},
   "outputs": [
    {
     "data": {
      "image/png": "[encoded data removed]",
      "text/plain": [
       "<matplotlib.figure.Figure at 0x7f873ed72470>"
      ]
     },
     "metadata": {},
     "output_type": "display_data"
    }
   ],
   "source": [
    "plt.plot(range(1,100), habaz)\n",
    "plt.show()"
   ]
  },
  {
   "cell_type": "markdown",
   "metadata": {},
   "source": [
    "# Segundo experimento com Minibatch Kmeans"
   ]
  },
  {
   "cell_type": "code",
   "execution_count": 35,
   "metadata": {
    "collapsed": true
   },
   "outputs": [],
   "source": [
    "from sklearn.cluster import MiniBatchKMeans\n",
    "from sklearn.metrics.cluster import v_measure_score\n",
    "from time import time\n",
    "from sklearn.feature_selection import VarianceThreshold"
   ]
  },
  {
   "cell_type": "code",
   "execution_count": 36,
   "metadata": {
    "collapsed": true
   },
   "outputs": [],
   "source": [
    "y_target = dataset_security_camera.label\n",
    "X_mini = dataset_security_camera.drop('label',1)"
   ]
  },
  {
   "cell_type": "markdown",
   "metadata": {},
   "source": [
    "Seleção de features por limiar de variância"
   ]
  },
  {
   "cell_type": "code",
   "execution_count": 37,
   "metadata": {},
   "outputs": [
    {
     "name": "stdout",
     "output_type": "stream",
     "text": [
      "(141555, 105)\n"
     ]
    }
   ],
   "source": [
    "X_mini = VarianceThreshold(threshold=(.8 * (1 - .8))).fit_transform(X_mini)\n",
    "print(X_mini.shape)"
   ]
  },
  {
   "cell_type": "code",
   "execution_count": 38,
   "metadata": {
    "collapsed": true
   },
   "outputs": [],
   "source": [
    "minibatch_kmeans = MiniBatchKMeans(n_clusters = 3, init='random', max_iter=300, n_init=10, random_state=0, batch_size = 500)"
   ]
  },
  {
   "cell_type": "code",
   "execution_count": 39,
   "metadata": {},
   "outputs": [
    {
     "name": "stdout",
     "output_type": "stream",
     "text": [
      "MiniBatchKMeans...\n",
      "Done in 0.61s. V-measure: 0.0737\n"
     ]
    }
   ],
   "source": [
    "print(\"MiniBatchKMeans...\")\n",
    "start_time = time()\n",
    "y_kmeans = minibatch_kmeans.fit_predict(X_mini)\n",
    "print(\"Done in {:.2f}s. V-measure: {:.4f}\".format(\n",
    "time() - start_time,\n",
    "v_measure_score(y_target, y_kmeans)))"
   ]
  },
  {
   "cell_type": "code",
   "execution_count": 40,
   "metadata": {},
   "outputs": [
    {
     "data": {
      "text/plain": [
       "array([2, 2, 2, ..., 2, 2, 2], dtype=int32)"
      ]
     },
     "execution_count": 40,
     "metadata": {},
     "output_type": "execute_result"
    }
   ],
   "source": [
    "y_kmeans"
   ]
  },
  {
   "cell_type": "code",
   "execution_count": 41,
   "metadata": {},
   "outputs": [
    {
     "data": {
      "text/plain": [
       "array([[  681,   129, 90745],\n",
       "       [   97,  3379, 21524],\n",
       "       [   75,    34, 24891]])"
      ]
     },
     "execution_count": 41,
     "metadata": {},
     "output_type": "execute_result"
    }
   ],
   "source": [
    "confusion_matrix(y_target, y_kmeans)"
   ]
  },
  {
   "cell_type": "code",
   "execution_count": null,
   "metadata": {
    "collapsed": true
   },
   "outputs": [],
   "source": []
  }
 ],
 "metadata": {
  "kernelspec": {
   "display_name": "Python 3",
   "language": "python",
   "name": "python3"
  },
  "language_info": {
   "codemirror_mode": {
    "name": "ipython",
    "version": 3
   },
   "file_extension": ".py",
   "mimetype": "text/x-python",
   "name": "python",
   "nbconvert_exporter": "python",
   "pygments_lexer": "ipython3",
   "version": "3.6.3"
  }
 },
 "nbformat": 4,
 "nbformat_minor": 2
}
