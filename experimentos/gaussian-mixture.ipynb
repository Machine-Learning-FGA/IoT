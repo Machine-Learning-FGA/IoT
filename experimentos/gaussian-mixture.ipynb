{
 "cells": [
  {
   "cell_type": "markdown",
   "metadata": {},
   "source": [
    "# Gaussian Mixture"
   ]
  },
  {
   "cell_type": "code",
   "execution_count": 1,
   "metadata": {},
   "outputs": [
    {
     "name": "stdout",
     "output_type": "stream",
     "text": [
      "(141555, 116)\n"
     ]
    }
   ],
   "source": [
    "import pandas as pd\n",
    "\n",
    "dataset = pd.read_csv(\"../dataset/camera.csv\")\n",
    "print(dataset.shape)\n",
    "\n",
    "X = dataset.iloc[:, 0:-1]\n",
    "y = dataset.iloc[:, -1]"
   ]
  },
  {
   "cell_type": "code",
   "execution_count": 2,
   "metadata": {},
   "outputs": [],
   "source": [
    "from sklearn.model_selection import train_test_split\n",
    "\n",
    "X_train, X_test, y_train, y_test = train_test_split(X, y, test_size=0.2, random_state=42)"
   ]
  },
  {
   "cell_type": "code",
   "execution_count": 3,
   "metadata": {},
   "outputs": [],
   "source": [
    "from sklearn.mixture import GaussianMixture\n",
    "\n",
    "gm = GaussianMixture(\n",
    "    n_components = 3,\n",
    "    covariance_type = 'spherical',\n",
    "    tol = 0.001,\n",
    "    reg_covar = 1e-06,\n",
    "    max_iter = 100,\n",
    "    n_init = 1,\n",
    "    init_params = 'kmeans',\n",
    "    weights_init = None,\n",
    "    means_init = None,\n",
    "    precisions_init = None,\n",
    "    random_state = None,\n",
    "    warm_start = False,\n",
    "    verbose = 0, \n",
    "    verbose_interval = 10\n",
    ").fit(X_train, y_train)"
   ]
  },
  {
   "cell_type": "code",
   "execution_count": 4,
   "metadata": {},
   "outputs": [],
   "source": [
    "y_pred = gm.predict(X_test)"
   ]
  },
  {
   "cell_type": "code",
   "execution_count": 5,
   "metadata": {},
   "outputs": [
    {
     "name": "stdout",
     "output_type": "stream",
     "text": [
      "Matriz de confusão\n",
      "[[17362  1004     0]\n",
      " [ 2335  2309   326]\n",
      " [ 2993  1982     0]]\n"
     ]
    }
   ],
   "source": [
    "from sklearn.metrics import f1_score, precision_score, recall_score, confusion_matrix\n",
    "cm = confusion_matrix(y_test, y_pred)\n",
    "print(\"Matriz de confusão\\n{}\".format(cm))"
   ]
  },
  {
   "cell_type": "code",
   "execution_count": 6,
   "metadata": {},
   "outputs": [],
   "source": [
    "import numpy as np\n",
    "\n",
    "x = np.array([['Gaussian Mixture'], cm])\n",
    "np.save('resultados/gm', x)"
   ]
  },
  {
   "cell_type": "markdown",
   "metadata": {},
   "source": [
    "---\n",
    "\n",
    "## Seleção de features\n",
    "\n",
    "### Limiar de variância\n",
    "\n",
    "Eliminação de features cujo valor é 0 ou 1 em mais de 80% das amostras:"
   ]
  },
  {
   "cell_type": "code",
   "execution_count": 7,
   "metadata": {},
   "outputs": [
    {
     "name": "stdout",
     "output_type": "stream",
     "text": [
      "(141555, 105)\n"
     ]
    }
   ],
   "source": [
    "from sklearn.feature_selection import VarianceThreshold\n",
    "\n",
    "X = VarianceThreshold(threshold=(.8 * (1 - .8))).fit_transform(X)\n",
    "print(X.shape)"
   ]
  },
  {
   "cell_type": "code",
   "execution_count": 8,
   "metadata": {},
   "outputs": [
    {
     "name": "stdout",
     "output_type": "stream",
     "text": [
      "Matriz de confusão\n",
      "[[17362  1004     0]\n",
      " [ 2335  2309   326]\n",
      " [ 2993  1982     0]]\n"
     ]
    }
   ],
   "source": [
    "X_train, X_test, y_train, y_test = train_test_split(X, y, test_size=0.2, random_state=42)\n",
    "\n",
    "gm = GaussianMixture(\n",
    "    n_components = 3,\n",
    "    covariance_type = 'spherical',\n",
    "    tol = 0.001,\n",
    "    reg_covar = 1e-06,\n",
    "    max_iter = 100,\n",
    "    n_init = 1,\n",
    "    init_params = 'kmeans',\n",
    "    weights_init = None,\n",
    "    means_init = None,\n",
    "    precisions_init = None,\n",
    "    random_state = None,\n",
    "    warm_start = False,\n",
    "    verbose = 0, \n",
    "    verbose_interval = 10\n",
    ").fit(X_train, y_train)\n",
    "\n",
    "y_pred = gm.predict(X_test)\n",
    "cm = confusion_matrix(y_test, y_pred)\n",
    "print(\"Matriz de confusão\\n{}\".format(cm))\n",
    "\n",
    "x = np.array([['Gaussian Mixture (var)'], cm])\n",
    "np.save('resultados/gm2', x)"
   ]
  },
  {
   "cell_type": "markdown",
   "metadata": {},
   "source": [
    "---\n",
    "\n",
    "### Limiar de correlação\n",
    "\n",
    "Elimina features que tenham mais de 90% de correlação com outra."
   ]
  },
  {
   "cell_type": "code",
   "execution_count": 9,
   "metadata": {},
   "outputs": [
    {
     "name": "stdout",
     "output_type": "stream",
     "text": [
      "Matriz de confusão\n",
      "[[17334  1032     0]\n",
      " [ 2335  2331   304]\n",
      " [ 2993  1982     0]]\n"
     ]
    }
   ],
   "source": [
    "X = pd.read_csv('../dataset/camera_featred.csv')\n",
    "\n",
    "X_train, X_test, y_train, y_test = train_test_split(X, y, test_size=0.2, random_state=42)\n",
    "\n",
    "gm = GaussianMixture(\n",
    "    n_components = 3,\n",
    "    covariance_type = 'spherical',\n",
    "    tol = 0.001,\n",
    "    reg_covar = 1e-06,\n",
    "    max_iter = 100,\n",
    "    n_init = 1,\n",
    "    init_params = 'kmeans',\n",
    "    weights_init = None,\n",
    "    means_init = None,\n",
    "    precisions_init = None,\n",
    "    random_state = None,\n",
    "    warm_start = False,\n",
    "    verbose = 0, \n",
    "    verbose_interval = 10\n",
    ").fit(X_train, y_train)\n",
    "\n",
    "y_pred = gm.predict(X_test)\n",
    "\n",
    "cm = confusion_matrix(y_test, y_pred)\n",
    "print(\"Matriz de confusão\\n{}\".format(cm))\n",
    "\n",
    "x = np.array([['Gaussian Mixture (cor)'], cm])\n",
    "np.save('resultados/gm3', x)"
   ]
  },
  {
   "cell_type": "code",
   "execution_count": null,
   "metadata": {},
   "outputs": [],
   "source": []
  }
 ],
 "metadata": {
  "kernelspec": {
   "display_name": "Python 3",
   "language": "python",
   "name": "python3"
  },
  "language_info": {
   "codemirror_mode": {
    "name": "ipython",
    "version": 3
   },
   "file_extension": ".py",
   "mimetype": "text/x-python",
   "name": "python",
   "nbconvert_exporter": "python",
   "pygments_lexer": "ipython3",
   "version": "3.6.4"
  }
 },
 "nbformat": 4,
 "nbformat_minor": 2
}
