{
 "cells": [
  {
   "cell_type": "code",
   "execution_count": 1,
   "metadata": {},
   "outputs": [],
   "source": [
    "import pandas as pd\n",
    "import numpy as np\n",
    "import matplotlib.pyplot as plt\n",
    "from sklearn.decomposition import PCA\n",
    "from sklearn.preprocessing import StandardScaler\n",
    "%matplotlib inline\n",
    "from sklearn.model_selection import train_test_split"
   ]
  },
  {
   "cell_type": "code",
   "execution_count": 16,
   "metadata": {},
   "outputs": [],
   "source": [
    "dataset = pd.read_csv('../dataset/camera.csv')\n",
    "dataset_labels = dataset['label']\n",
    "dataset_X = dataset.drop('label',1)"
   ]
  },
  {
   "cell_type": "code",
   "execution_count": 17,
   "metadata": {},
   "outputs": [
    {
     "data": {
      "text/html": [
       "<div>\n",
       "<style scoped>\n",
       "    .dataframe tbody tr th:only-of-type {\n",
       "        vertical-align: middle;\n",
       "    }\n",
       "\n",
       "    .dataframe tbody tr th {\n",
       "        vertical-align: top;\n",
       "    }\n",
       "\n",
       "    .dataframe thead th {\n",
       "        text-align: right;\n",
       "    }\n",
       "</style>\n",
       "<table border=\"1\" class=\"dataframe\">\n",
       "  <thead>\n",
       "    <tr style=\"text-align: right;\">\n",
       "      <th></th>\n",
       "      <th>MI_dir_L5_weight</th>\n",
       "      <th>MI_dir_L5_mean</th>\n",
       "      <th>MI_dir_L5_variance</th>\n",
       "      <th>MI_dir_L3_weight</th>\n",
       "      <th>MI_dir_L3_mean</th>\n",
       "      <th>MI_dir_L3_variance</th>\n",
       "      <th>MI_dir_L1_weight</th>\n",
       "      <th>MI_dir_L1_mean</th>\n",
       "      <th>MI_dir_L1_variance</th>\n",
       "      <th>MI_dir_L0.1_weight</th>\n",
       "      <th>...</th>\n",
       "      <th>HpHp_L0.1_radius</th>\n",
       "      <th>HpHp_L0.1_covariance</th>\n",
       "      <th>HpHp_L0.1_pcc</th>\n",
       "      <th>HpHp_L0.01_weight</th>\n",
       "      <th>HpHp_L0.01_mean</th>\n",
       "      <th>HpHp_L0.01_std</th>\n",
       "      <th>HpHp_L0.01_magnitude</th>\n",
       "      <th>HpHp_L0.01_radius</th>\n",
       "      <th>HpHp_L0.01_covariance</th>\n",
       "      <th>HpHp_L0.01_pcc</th>\n",
       "    </tr>\n",
       "  </thead>\n",
       "  <tbody>\n",
       "    <tr>\n",
       "      <th>0</th>\n",
       "      <td>1.000000</td>\n",
       "      <td>60.000000</td>\n",
       "      <td>0.000000e+00</td>\n",
       "      <td>1.000000</td>\n",
       "      <td>60.000000</td>\n",
       "      <td>0.000000</td>\n",
       "      <td>1.000000</td>\n",
       "      <td>60.000000</td>\n",
       "      <td>0.000000</td>\n",
       "      <td>1.000000</td>\n",
       "      <td>...</td>\n",
       "      <td>0.000000</td>\n",
       "      <td>0.0</td>\n",
       "      <td>0.0</td>\n",
       "      <td>1.000000</td>\n",
       "      <td>60.000000</td>\n",
       "      <td>0.000000</td>\n",
       "      <td>60.000000</td>\n",
       "      <td>0.000000</td>\n",
       "      <td>0.0</td>\n",
       "      <td>0.0</td>\n",
       "    </tr>\n",
       "    <tr>\n",
       "      <th>1</th>\n",
       "      <td>1.000000</td>\n",
       "      <td>590.000000</td>\n",
       "      <td>0.000000e+00</td>\n",
       "      <td>1.000000</td>\n",
       "      <td>590.000000</td>\n",
       "      <td>0.000000</td>\n",
       "      <td>1.000000</td>\n",
       "      <td>590.000000</td>\n",
       "      <td>0.000000</td>\n",
       "      <td>1.000000</td>\n",
       "      <td>...</td>\n",
       "      <td>8.323848</td>\n",
       "      <td>0.0</td>\n",
       "      <td>0.0</td>\n",
       "      <td>4.456899</td>\n",
       "      <td>443.197258</td>\n",
       "      <td>121.885335</td>\n",
       "      <td>443.197258</td>\n",
       "      <td>14856.034960</td>\n",
       "      <td>0.0</td>\n",
       "      <td>0.0</td>\n",
       "    </tr>\n",
       "    <tr>\n",
       "      <th>2</th>\n",
       "      <td>1.956973</td>\n",
       "      <td>590.000000</td>\n",
       "      <td>5.820766e-11</td>\n",
       "      <td>1.973957</td>\n",
       "      <td>590.000000</td>\n",
       "      <td>0.000000</td>\n",
       "      <td>1.991242</td>\n",
       "      <td>590.000000</td>\n",
       "      <td>0.000000</td>\n",
       "      <td>1.999121</td>\n",
       "      <td>...</td>\n",
       "      <td>4.160671</td>\n",
       "      <td>0.0</td>\n",
       "      <td>0.0</td>\n",
       "      <td>5.456507</td>\n",
       "      <td>470.101420</td>\n",
       "      <td>123.932152</td>\n",
       "      <td>470.101420</td>\n",
       "      <td>15359.178351</td>\n",
       "      <td>0.0</td>\n",
       "      <td>0.0</td>\n",
       "    </tr>\n",
       "    <tr>\n",
       "      <th>3</th>\n",
       "      <td>1.000000</td>\n",
       "      <td>60.000000</td>\n",
       "      <td>0.000000e+00</td>\n",
       "      <td>1.000000</td>\n",
       "      <td>60.000000</td>\n",
       "      <td>0.000000</td>\n",
       "      <td>1.000000</td>\n",
       "      <td>60.000000</td>\n",
       "      <td>0.000000</td>\n",
       "      <td>1.000000</td>\n",
       "      <td>...</td>\n",
       "      <td>0.000000</td>\n",
       "      <td>0.0</td>\n",
       "      <td>0.0</td>\n",
       "      <td>1.000000</td>\n",
       "      <td>60.000000</td>\n",
       "      <td>0.000000</td>\n",
       "      <td>60.000000</td>\n",
       "      <td>0.000000</td>\n",
       "      <td>0.0</td>\n",
       "      <td>0.0</td>\n",
       "    </tr>\n",
       "    <tr>\n",
       "      <th>4</th>\n",
       "      <td>1.988608</td>\n",
       "      <td>66.034372</td>\n",
       "      <td>3.599882e+01</td>\n",
       "      <td>1.993149</td>\n",
       "      <td>66.020623</td>\n",
       "      <td>35.999575</td>\n",
       "      <td>1.997711</td>\n",
       "      <td>66.006874</td>\n",
       "      <td>35.999953</td>\n",
       "      <td>1.999771</td>\n",
       "      <td>...</td>\n",
       "      <td>0.000000</td>\n",
       "      <td>0.0</td>\n",
       "      <td>0.0</td>\n",
       "      <td>1.000000</td>\n",
       "      <td>72.000000</td>\n",
       "      <td>0.000000</td>\n",
       "      <td>72.000000</td>\n",
       "      <td>0.000000</td>\n",
       "      <td>0.0</td>\n",
       "      <td>0.0</td>\n",
       "    </tr>\n",
       "  </tbody>\n",
       "</table>\n",
       "<p>5 rows × 115 columns</p>\n",
       "</div>"
      ],
      "text/plain": [
       "   MI_dir_L5_weight  MI_dir_L5_mean  MI_dir_L5_variance  MI_dir_L3_weight  \\\n",
       "0          1.000000       60.000000        0.000000e+00          1.000000   \n",
       "1          1.000000      590.000000        0.000000e+00          1.000000   \n",
       "2          1.956973      590.000000        5.820766e-11          1.973957   \n",
       "3          1.000000       60.000000        0.000000e+00          1.000000   \n",
       "4          1.988608       66.034372        3.599882e+01          1.993149   \n",
       "\n",
       "   MI_dir_L3_mean  MI_dir_L3_variance  MI_dir_L1_weight  MI_dir_L1_mean  \\\n",
       "0       60.000000            0.000000          1.000000       60.000000   \n",
       "1      590.000000            0.000000          1.000000      590.000000   \n",
       "2      590.000000            0.000000          1.991242      590.000000   \n",
       "3       60.000000            0.000000          1.000000       60.000000   \n",
       "4       66.020623           35.999575          1.997711       66.006874   \n",
       "\n",
       "   MI_dir_L1_variance  MI_dir_L0.1_weight       ...        HpHp_L0.1_radius  \\\n",
       "0            0.000000            1.000000       ...                0.000000   \n",
       "1            0.000000            1.000000       ...                8.323848   \n",
       "2            0.000000            1.999121       ...                4.160671   \n",
       "3            0.000000            1.000000       ...                0.000000   \n",
       "4           35.999953            1.999771       ...                0.000000   \n",
       "\n",
       "   HpHp_L0.1_covariance  HpHp_L0.1_pcc  HpHp_L0.01_weight  HpHp_L0.01_mean  \\\n",
       "0                   0.0            0.0           1.000000        60.000000   \n",
       "1                   0.0            0.0           4.456899       443.197258   \n",
       "2                   0.0            0.0           5.456507       470.101420   \n",
       "3                   0.0            0.0           1.000000        60.000000   \n",
       "4                   0.0            0.0           1.000000        72.000000   \n",
       "\n",
       "   HpHp_L0.01_std  HpHp_L0.01_magnitude  HpHp_L0.01_radius  \\\n",
       "0        0.000000             60.000000           0.000000   \n",
       "1      121.885335            443.197258       14856.034960   \n",
       "2      123.932152            470.101420       15359.178351   \n",
       "3        0.000000             60.000000           0.000000   \n",
       "4        0.000000             72.000000           0.000000   \n",
       "\n",
       "   HpHp_L0.01_covariance  HpHp_L0.01_pcc  \n",
       "0                    0.0             0.0  \n",
       "1                    0.0             0.0  \n",
       "2                    0.0             0.0  \n",
       "3                    0.0             0.0  \n",
       "4                    0.0             0.0  \n",
       "\n",
       "[5 rows x 115 columns]"
      ]
     },
     "execution_count": 17,
     "metadata": {},
     "output_type": "execute_result"
    }
   ],
   "source": [
    "dataset_X.head()"
   ]
  },
  {
   "cell_type": "code",
   "execution_count": 18,
   "metadata": {},
   "outputs": [
    {
     "name": "stdout",
     "output_type": "stream",
     "text": [
      "<class 'pandas.core.frame.DataFrame'>\n",
      "RangeIndex: 141555 entries, 0 to 141554\n",
      "Columns: 115 entries, MI_dir_L5_weight to HpHp_L0.01_pcc\n",
      "dtypes: float64(115)\n",
      "memory usage: 124.2 MB\n"
     ]
    }
   ],
   "source": [
    "dataset_X.info()"
   ]
  },
  {
   "cell_type": "code",
   "execution_count": 19,
   "metadata": {},
   "outputs": [
    {
     "data": {
      "image/png": "[encoded data removed]",
      "text/plain": [
       "<matplotlib.figure.Figure at 0x7fe21935beb8>"
      ]
     },
     "metadata": {},
     "output_type": "display_data"
    }
   ],
   "source": [
    "from sklearn.cluster import KMeans\n",
    "wcss = []\n",
    "for i in range(1,11):\n",
    "    kmeans = KMeans(n_clusters = i, init='k-means++', max_iter=300, n_init=10, random_state=0)\n",
    "    kmeans.fit(dataset_X)\n",
    "    wcss.append(kmeans.inertia_)\n",
    "plt.plot(range(1,11), wcss)\n",
    "plt.title('The Elbow Method')\n",
    "plt.xlabel('Numero de Clusters')\n",
    "plt.ylabel('WCSS')\n",
    "plt.show()"
   ]
  },
  {
   "cell_type": "code",
   "execution_count": 21,
   "metadata": {},
   "outputs": [],
   "source": [
    "from sklearn.cluster import KMeans\n",
    "kmeans = KMeans(n_clusters = 2, init='k-means++', max_iter=300, n_init=10, random_state=0)\n",
    "y_kmeans = kmeans.fit_predict(dataset_X)"
   ]
  },
  {
   "cell_type": "code",
   "execution_count": 22,
   "metadata": {},
   "outputs": [
    {
     "data": {
      "image/png": "[encoded data removed]",
      "text/plain": [
       "<matplotlib.figure.Figure at 0x7fe219162d68>"
      ]
     },
     "metadata": {},
     "output_type": "display_data"
    }
   ],
   "source": [
    "plt.scatter(kmeans.cluster_centers_[:, 0], kmeans.cluster_centers_[:, 1], s=30, c='red', label = 'centros')\n",
    "plt.show()"
   ]
  },
  {
   "cell_type": "code",
   "execution_count": 16,
   "metadata": {},
   "outputs": [
    {
     "data": {
      "text/plain": [
       "array([[ 3.38114575e+01,  1.14183738e+02,  1.31183198e+04,\n",
       "         5.08989923e+01,  1.14233475e+02,  1.37262872e+04,\n",
       "         1.33092099e+02,  1.15534539e+02,  1.50856699e+04,\n",
       "         7.62015451e+02,  1.19473369e+02,  1.75737872e+04,\n",
       "         1.45196138e+03,  1.22004583e+02,  1.90885261e+04,\n",
       "         3.38114575e+01,  1.14183738e+02,  1.31183198e+04,\n",
       "         5.08989923e+01,  1.14233475e+02,  1.37262872e+04,\n",
       "         1.33092099e+02,  1.15534539e+02,  1.50856699e+04,\n",
       "         7.62015451e+02,  1.19473369e+02,  1.75737873e+04,\n",
       "         1.45196143e+03,  1.22002650e+02,  1.90887451e+04,\n",
       "         2.10975018e+01,  1.14670212e+02,  3.66062500e+01,\n",
       "         1.73432580e+02,  3.79939301e+04, -2.22502097e+03,\n",
       "        -5.77029612e-03,  3.17983001e+01,  1.14539718e+02,\n",
       "         3.68692272e+01,  1.75282632e+02,  3.89684082e+04,\n",
       "        -2.56915864e+03, -1.04912175e-02,  8.23236959e+01,\n",
       "         1.15007091e+02,  3.95110128e+01,  1.75951707e+02,\n",
       "         3.92633638e+04, -2.89784058e+03, -1.66507474e-02,\n",
       "         3.83473170e+02,  1.17459068e+02,  4.80346121e+01,\n",
       "         1.70728726e+02,  3.43772486e+04, -2.50029440e+03,\n",
       "        -1.18327069e-02,  5.89566326e+02,  1.19401422e+02,\n",
       "         5.71924212e+01,  1.66398927e+02,  3.02140665e+04,\n",
       "        -9.90838657e+01,  2.57672417e-02,  2.10975018e+01,\n",
       "         2.89020571e+08,  3.68814556e+12,  3.17983001e+01,\n",
       "         2.89021614e+08,  5.17417928e+12,  8.23236959e+01,\n",
       "         2.89029951e+08,  1.72066214e+13,  3.83473170e+02,\n",
       "         2.89195871e+08,  2.55221140e+14,  5.89566326e+02,\n",
       "         2.89698059e+08,  9.25597535e+14,  2.13651437e+00,\n",
       "         1.17634102e+02,  3.16156978e+01,  1.44345712e+02,\n",
       "         1.80019528e+04,  2.66915194e+03,  5.35194247e-02,\n",
       "         2.52174880e+00,  1.17641564e+02,  3.17308333e+01,\n",
       "         1.44215662e+02,  1.80146903e+04,  2.71601112e+03,\n",
       "         5.47436587e-02,  4.47011742e+00,  1.17531106e+02,\n",
       "         3.20273631e+01,  1.43965531e+02,  1.80561692e+04,\n",
       "         2.76815112e+03,  5.60737047e-02,  2.47363119e+01,\n",
       "         1.17212319e+02,  3.27678111e+01,  1.43594210e+02,\n",
       "         1.81042866e+04,  2.80014193e+03,  5.64915253e-02,\n",
       "         4.72548659e+01,  1.17234273e+02,  3.34584432e+01,\n",
       "         1.43675429e+02,  1.81203957e+04,  2.80567410e+03,\n",
       "         5.84606778e-02,  5.18437738e-01],\n",
       "       [ 4.79503499e+01,  7.76987894e+01,  1.00820797e+03,\n",
       "         7.03289405e+01,  7.78941911e+01,  1.27512399e+03,\n",
       "         1.62812514e+02,  7.85131178e+01,  1.85011819e+03,\n",
       "         9.94426578e+02,  7.92064884e+01,  2.39787092e+03,\n",
       "         3.19679519e+03,  7.88832450e+01,  2.15463911e+03,\n",
       "         4.79503499e+01,  7.76987894e+01,  1.00820797e+03,\n",
       "         7.03289405e+01,  7.78941911e+01,  1.27512399e+03,\n",
       "         1.62812514e+02,  7.85131178e+01,  1.85011819e+03,\n",
       "         9.94426578e+02,  7.92064884e+01,  2.39787092e+03,\n",
       "         3.19679519e+03,  7.88832450e+01,  2.15463911e+03,\n",
       "         1.04333742e+00,  7.70629818e+01,  1.13159198e+00,\n",
       "         8.06054564e+01,  1.54734726e+03,  2.45592269e+01,\n",
       "         4.98851437e-04,  1.05182415e+00,  7.70307802e+01,\n",
       "         1.19420041e+00,  8.05793369e+01,  1.67049156e+03,\n",
       "         3.19915227e+01,  7.94515533e-04,  1.13850952e+00,\n",
       "         7.69778407e+01,  1.26929782e+00,  8.05416331e+01,\n",
       "         1.80369075e+03,  5.08440976e+01,  1.60016360e-03,\n",
       "         2.05327872e+00,  7.71483972e+01,  1.64656043e+00,\n",
       "         8.07054656e+01,  2.06889744e+03,  7.91387465e+01,\n",
       "         2.54518671e-03,  2.52985790e+00,  7.72966741e+01,\n",
       "         1.71997902e+00,  8.08266075e+01,  2.17598619e+03,\n",
       "         9.41837574e+01,  3.01652255e-03,  1.04333742e+00,\n",
       "         5.54823023e+06,  5.90658271e+15,  1.05182415e+00,\n",
       "         8.47105595e+06,  9.72946640e+15,  1.13850952e+00,\n",
       "         9.24450836e+07,  1.20736430e+17,  2.05327872e+00,\n",
       "         5.06546750e+08,  4.76215204e+17,  2.52985790e+00,\n",
       "         6.04792044e+08,  5.24175252e+17,  1.01999716e+00,\n",
       "         7.73610692e+01,  5.57304007e-01,  8.05414482e+01,\n",
       "         1.35544992e+03,  2.46852601e+01,  6.02672693e-04,\n",
       "         1.02662993e+00,  7.73593409e+01,  5.75947428e-01,\n",
       "         8.05191353e+01,  1.45161412e+03,  3.21234005e+01,\n",
       "         8.48251750e-04,  1.10696644e+00,  7.73373501e+01,\n",
       "         5.80524543e-01,  8.04406654e+01,  1.54401799e+03,\n",
       "         5.06301185e+01,  1.40684391e-03,  1.99844420e+00,\n",
       "         7.73666128e+01,  6.36516795e-01,  8.03453287e+01,\n",
       "         1.62016014e+03,  7.89889235e+01,  2.28556586e-03,\n",
       "         2.46200219e+00,  7.73836597e+01,  6.39476162e-01,\n",
       "         8.03187007e+01,  1.65314202e+03,  9.39901476e+01,\n",
       "         2.51467842e-03,  9.72676056e-01]])"
      ]
     },
     "execution_count": 16,
     "metadata": {},
     "output_type": "execute_result"
    }
   ],
   "source": [
    "kmeans.cluster_centers_"
   ]
  },
  {
   "cell_type": "code",
   "execution_count": 23,
   "metadata": {},
   "outputs": [
    {
     "data": {
      "text/plain": [
       "array([0, 0, 0, ..., 0, 0, 0], dtype=int32)"
      ]
     },
     "execution_count": 23,
     "metadata": {},
     "output_type": "execute_result"
    }
   ],
   "source": [
    "kmeans.labels_"
   ]
  },
  {
   "cell_type": "code",
   "execution_count": 25,
   "metadata": {},
   "outputs": [
    {
     "data": {
      "text/plain": [
       "-1.3558106817918255e+38"
      ]
     },
     "execution_count": 25,
     "metadata": {},
     "output_type": "execute_result"
    }
   ],
   "source": [
    "kmeans.score(dataset_X)"
   ]
  },
  {
   "cell_type": "code",
   "execution_count": 26,
   "metadata": {},
   "outputs": [
    {
     "data": {
      "text/plain": [
       "1.3558106817918112e+38"
      ]
     },
     "execution_count": 26,
     "metadata": {},
     "output_type": "execute_result"
    }
   ],
   "source": [
    "kmeans.inertia_"
   ]
  },
  {
   "cell_type": "code",
   "execution_count": 28,
   "metadata": {},
   "outputs": [
    {
     "name": "stdout",
     "output_type": "stream",
     "text": [
      "Matriz de confusão\n",
      "[[91422   133     0]\n",
      " [21619  3381     0]\n",
      " [24964    36     0]]\n"
     ]
    }
   ],
   "source": [
    "from sklearn.metrics import confusion_matrix\n",
    "from sklearn.metrics import pairwise_distances\n",
    "cm = confusion_matrix(dataset_labels, kmeans.labels_)\n",
    "print(\"Matriz de confusão\\n{}\".format(cm))"
   ]
  },
  {
   "cell_type": "code",
   "execution_count": null,
   "metadata": {},
   "outputs": [],
   "source": []
  }
 ],
 "metadata": {
  "kernelspec": {
   "display_name": "Python 3",
   "language": "python",
   "name": "python3"
  },
  "language_info": {
   "codemirror_mode": {
    "name": "ipython",
    "version": 3
   },
   "file_extension": ".py",
   "mimetype": "text/x-python",
   "name": "python",
   "nbconvert_exporter": "python",
   "pygments_lexer": "ipython3",
   "version": "3.6.4"
  }
 },
 "nbformat": 4,
 "nbformat_minor": 2
}
