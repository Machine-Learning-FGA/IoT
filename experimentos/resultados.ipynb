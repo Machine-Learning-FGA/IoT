{
 "cells": [
  {
   "cell_type": "markdown",
   "metadata": {},
   "source": [
    "# Resultados"
   ]
  },
  {
   "cell_type": "code",
   "execution_count": 1,
   "metadata": {},
   "outputs": [],
   "source": [
    "%matplotlib inline\n",
    "import pandas as pd\n",
    "import matplotlib.pyplot as plt\n",
    "import seaborn as sns\n",
    "import numpy as np\n",
    "from pathlib import Path"
   ]
  },
  {
   "cell_type": "code",
   "execution_count": 2,
   "metadata": {},
   "outputs": [],
   "source": [
    "fnr_x = []\n",
    "fnr_m = []\n",
    "pre_x = []\n",
    "pre_m = []\n",
    "\n",
    "for fn in Path('resultados/').glob('*.npy'):\n",
    "    res = np.load(fn)\n",
    "    m = res[0]\n",
    "    x = res[1]\n",
    "\n",
    "    if x.shape == (2, 2):\n",
    "        fnr = x[1, 0] / (x[1, 0] + x[1, 1])\n",
    "    elif x.shape == (3, 3):\n",
    "        fp = x[0, 1] + x[0, 2]\n",
    "        fn = x[1, 0] + x[2, 0]\n",
    "        tp = x[1, 1] + x[1, 2] + x[2, 1] + x[2, 2]\n",
    "        fnr = fn / (fn + tp)\n",
    "        pre = tp / (tp + fp)\n",
    "        pre_x.append(pre)\n",
    "        pre_m.append(m)\n",
    "    else:\n",
    "        continue\n",
    "\n",
    "    fnr_x.append(fnr)\n",
    "    fnr_m.append(m)"
   ]
  },
  {
   "cell_type": "markdown",
   "metadata": {},
   "source": [
    "## False Negative Rate (FNR):\n",
    "\n",
    "$$ FNR = \\frac{FN}{FN + TP} $$"
   ]
  },
  {
   "cell_type": "code",
   "execution_count": 3,
   "metadata": {},
   "outputs": [
    {
     "data": {
      "image/png": "[encoded data removed]",
      "text/plain": [
       "<matplotlib.figure.Figure at 0x194acfc65f8>"
      ]
     },
     "metadata": {},
     "output_type": "display_data"
    }
   ],
   "source": [
    "plt.title('FNR obtidas nos experimentos')\n",
    "fig = plt.xlabel('Experimento')\n",
    "fig = plt.ylabel('FNR (%)')\n",
    "plt.bar(range(0, len(fnr_x)), fnr_x, width=0.4)\n",
    "plt.show()"
   ]
  },
  {
   "cell_type": "markdown",
   "metadata": {},
   "source": [
    "## Precisão\n",
    "\n",
    "$$\n",
    "PRE = \\frac{TP_1 + TP_2 + TP_3}{TP_1 + TP_2 + TP_3 + FP_1 + FP_2 + FP_3}\n",
    "$$"
   ]
  },
  {
   "cell_type": "code",
   "execution_count": 4,
   "metadata": {},
   "outputs": [
    {
     "data": {
      "image/png": "[encoded data removed]",
      "text/plain": [
       "<matplotlib.figure.Figure at 0x194acfc5e10>"
      ]
     },
     "metadata": {},
     "output_type": "display_data"
    }
   ],
   "source": [
    "plt.title('')\n",
    "fig = plt.xlabel('Experimento')\n",
    "fig = plt.ylabel('PRE (%)')\n",
    "plt.bar(range(0, len(pre_x)), pre_x, width=0.4)\n",
    "plt.show()"
   ]
  }
 ],
 "metadata": {
  "kernelspec": {
   "display_name": "Python 3",
   "language": "python",
   "name": "python3"
  },
  "language_info": {
   "codemirror_mode": {
    "name": "ipython",
    "version": 3
   },
   "file_extension": ".py",
   "mimetype": "text/x-python",
   "name": "python",
   "nbconvert_exporter": "python",
   "pygments_lexer": "ipython3",
   "version": "3.6.4"
  }
 },
 "nbformat": 4,
 "nbformat_minor": 2
}
